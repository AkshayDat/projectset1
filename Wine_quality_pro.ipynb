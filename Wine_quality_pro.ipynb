{
 "cells": [
  {
   "cell_type": "code",
   "execution_count": 103,
   "metadata": {},
   "outputs": [],
   "source": [
    "import pandas as pd\n",
    "import numpy as np\n",
    "import sklearn\n",
    "import seaborn as sns\n",
    "import matplotlib.pyplot as plt\n",
    "import warnings \n",
    "warnings.filterwarnings('ignore')\n",
    "\n"
   ]
  },
  {
   "cell_type": "code",
   "execution_count": 104,
   "metadata": {},
   "outputs": [],
   "source": [
    "winequal=pd.read_csv('winequality-red.csv')"
   ]
  },
  {
   "cell_type": "code",
   "execution_count": 105,
   "metadata": {},
   "outputs": [
    {
     "data": {
      "text/html": [
       "<div>\n",
       "<style scoped>\n",
       "    .dataframe tbody tr th:only-of-type {\n",
       "        vertical-align: middle;\n",
       "    }\n",
       "\n",
       "    .dataframe tbody tr th {\n",
       "        vertical-align: top;\n",
       "    }\n",
       "\n",
       "    .dataframe thead th {\n",
       "        text-align: right;\n",
       "    }\n",
       "</style>\n",
       "<table border=\"1\" class=\"dataframe\">\n",
       "  <thead>\n",
       "    <tr style=\"text-align: right;\">\n",
       "      <th></th>\n",
       "      <th>fixed acidity</th>\n",
       "      <th>volatile acidity</th>\n",
       "      <th>citric acid</th>\n",
       "      <th>residual sugar</th>\n",
       "      <th>chlorides</th>\n",
       "      <th>free sulfur dioxide</th>\n",
       "      <th>total sulfur dioxide</th>\n",
       "      <th>density</th>\n",
       "      <th>pH</th>\n",
       "      <th>sulphates</th>\n",
       "      <th>alcohol</th>\n",
       "      <th>quality</th>\n",
       "    </tr>\n",
       "  </thead>\n",
       "  <tbody>\n",
       "    <tr>\n",
       "      <th>0</th>\n",
       "      <td>7.4</td>\n",
       "      <td>0.70</td>\n",
       "      <td>0.00</td>\n",
       "      <td>1.9</td>\n",
       "      <td>0.076</td>\n",
       "      <td>11.0</td>\n",
       "      <td>34.0</td>\n",
       "      <td>0.9978</td>\n",
       "      <td>3.51</td>\n",
       "      <td>0.56</td>\n",
       "      <td>9.4</td>\n",
       "      <td>5</td>\n",
       "    </tr>\n",
       "    <tr>\n",
       "      <th>1</th>\n",
       "      <td>7.8</td>\n",
       "      <td>0.88</td>\n",
       "      <td>0.00</td>\n",
       "      <td>2.6</td>\n",
       "      <td>0.098</td>\n",
       "      <td>25.0</td>\n",
       "      <td>67.0</td>\n",
       "      <td>0.9968</td>\n",
       "      <td>3.20</td>\n",
       "      <td>0.68</td>\n",
       "      <td>9.8</td>\n",
       "      <td>5</td>\n",
       "    </tr>\n",
       "    <tr>\n",
       "      <th>2</th>\n",
       "      <td>7.8</td>\n",
       "      <td>0.76</td>\n",
       "      <td>0.04</td>\n",
       "      <td>2.3</td>\n",
       "      <td>0.092</td>\n",
       "      <td>15.0</td>\n",
       "      <td>54.0</td>\n",
       "      <td>0.9970</td>\n",
       "      <td>3.26</td>\n",
       "      <td>0.65</td>\n",
       "      <td>9.8</td>\n",
       "      <td>5</td>\n",
       "    </tr>\n",
       "    <tr>\n",
       "      <th>3</th>\n",
       "      <td>11.2</td>\n",
       "      <td>0.28</td>\n",
       "      <td>0.56</td>\n",
       "      <td>1.9</td>\n",
       "      <td>0.075</td>\n",
       "      <td>17.0</td>\n",
       "      <td>60.0</td>\n",
       "      <td>0.9980</td>\n",
       "      <td>3.16</td>\n",
       "      <td>0.58</td>\n",
       "      <td>9.8</td>\n",
       "      <td>6</td>\n",
       "    </tr>\n",
       "    <tr>\n",
       "      <th>4</th>\n",
       "      <td>7.4</td>\n",
       "      <td>0.70</td>\n",
       "      <td>0.00</td>\n",
       "      <td>1.9</td>\n",
       "      <td>0.076</td>\n",
       "      <td>11.0</td>\n",
       "      <td>34.0</td>\n",
       "      <td>0.9978</td>\n",
       "      <td>3.51</td>\n",
       "      <td>0.56</td>\n",
       "      <td>9.4</td>\n",
       "      <td>5</td>\n",
       "    </tr>\n",
       "  </tbody>\n",
       "</table>\n",
       "</div>"
      ],
      "text/plain": [
       "   fixed acidity  volatile acidity  citric acid  residual sugar  chlorides  \\\n",
       "0            7.4              0.70         0.00             1.9      0.076   \n",
       "1            7.8              0.88         0.00             2.6      0.098   \n",
       "2            7.8              0.76         0.04             2.3      0.092   \n",
       "3           11.2              0.28         0.56             1.9      0.075   \n",
       "4            7.4              0.70         0.00             1.9      0.076   \n",
       "\n",
       "   free sulfur dioxide  total sulfur dioxide  density    pH  sulphates  \\\n",
       "0                 11.0                  34.0   0.9978  3.51       0.56   \n",
       "1                 25.0                  67.0   0.9968  3.20       0.68   \n",
       "2                 15.0                  54.0   0.9970  3.26       0.65   \n",
       "3                 17.0                  60.0   0.9980  3.16       0.58   \n",
       "4                 11.0                  34.0   0.9978  3.51       0.56   \n",
       "\n",
       "   alcohol  quality  \n",
       "0      9.4        5  \n",
       "1      9.8        5  \n",
       "2      9.8        5  \n",
       "3      9.8        6  \n",
       "4      9.4        5  "
      ]
     },
     "execution_count": 105,
     "metadata": {},
     "output_type": "execute_result"
    }
   ],
   "source": [
    "winequal.head()"
   ]
  },
  {
   "cell_type": "code",
   "execution_count": 106,
   "metadata": {},
   "outputs": [
    {
     "data": {
      "text/html": [
       "<div>\n",
       "<style scoped>\n",
       "    .dataframe tbody tr th:only-of-type {\n",
       "        vertical-align: middle;\n",
       "    }\n",
       "\n",
       "    .dataframe tbody tr th {\n",
       "        vertical-align: top;\n",
       "    }\n",
       "\n",
       "    .dataframe thead th {\n",
       "        text-align: right;\n",
       "    }\n",
       "</style>\n",
       "<table border=\"1\" class=\"dataframe\">\n",
       "  <thead>\n",
       "    <tr style=\"text-align: right;\">\n",
       "      <th></th>\n",
       "      <th>fixed acidity</th>\n",
       "      <th>volatile acidity</th>\n",
       "      <th>citric acid</th>\n",
       "      <th>residual sugar</th>\n",
       "      <th>chlorides</th>\n",
       "      <th>free sulfur dioxide</th>\n",
       "      <th>total sulfur dioxide</th>\n",
       "      <th>density</th>\n",
       "      <th>pH</th>\n",
       "      <th>sulphates</th>\n",
       "      <th>alcohol</th>\n",
       "      <th>quality</th>\n",
       "    </tr>\n",
       "  </thead>\n",
       "  <tbody>\n",
       "    <tr>\n",
       "      <th>1594</th>\n",
       "      <td>6.2</td>\n",
       "      <td>0.600</td>\n",
       "      <td>0.08</td>\n",
       "      <td>2.0</td>\n",
       "      <td>0.090</td>\n",
       "      <td>32.0</td>\n",
       "      <td>44.0</td>\n",
       "      <td>0.99490</td>\n",
       "      <td>3.45</td>\n",
       "      <td>0.58</td>\n",
       "      <td>10.5</td>\n",
       "      <td>5</td>\n",
       "    </tr>\n",
       "    <tr>\n",
       "      <th>1595</th>\n",
       "      <td>5.9</td>\n",
       "      <td>0.550</td>\n",
       "      <td>0.10</td>\n",
       "      <td>2.2</td>\n",
       "      <td>0.062</td>\n",
       "      <td>39.0</td>\n",
       "      <td>51.0</td>\n",
       "      <td>0.99512</td>\n",
       "      <td>3.52</td>\n",
       "      <td>0.76</td>\n",
       "      <td>11.2</td>\n",
       "      <td>6</td>\n",
       "    </tr>\n",
       "    <tr>\n",
       "      <th>1596</th>\n",
       "      <td>6.3</td>\n",
       "      <td>0.510</td>\n",
       "      <td>0.13</td>\n",
       "      <td>2.3</td>\n",
       "      <td>0.076</td>\n",
       "      <td>29.0</td>\n",
       "      <td>40.0</td>\n",
       "      <td>0.99574</td>\n",
       "      <td>3.42</td>\n",
       "      <td>0.75</td>\n",
       "      <td>11.0</td>\n",
       "      <td>6</td>\n",
       "    </tr>\n",
       "    <tr>\n",
       "      <th>1597</th>\n",
       "      <td>5.9</td>\n",
       "      <td>0.645</td>\n",
       "      <td>0.12</td>\n",
       "      <td>2.0</td>\n",
       "      <td>0.075</td>\n",
       "      <td>32.0</td>\n",
       "      <td>44.0</td>\n",
       "      <td>0.99547</td>\n",
       "      <td>3.57</td>\n",
       "      <td>0.71</td>\n",
       "      <td>10.2</td>\n",
       "      <td>5</td>\n",
       "    </tr>\n",
       "    <tr>\n",
       "      <th>1598</th>\n",
       "      <td>6.0</td>\n",
       "      <td>0.310</td>\n",
       "      <td>0.47</td>\n",
       "      <td>3.6</td>\n",
       "      <td>0.067</td>\n",
       "      <td>18.0</td>\n",
       "      <td>42.0</td>\n",
       "      <td>0.99549</td>\n",
       "      <td>3.39</td>\n",
       "      <td>0.66</td>\n",
       "      <td>11.0</td>\n",
       "      <td>6</td>\n",
       "    </tr>\n",
       "  </tbody>\n",
       "</table>\n",
       "</div>"
      ],
      "text/plain": [
       "      fixed acidity  volatile acidity  citric acid  residual sugar  chlorides  \\\n",
       "1594            6.2             0.600         0.08             2.0      0.090   \n",
       "1595            5.9             0.550         0.10             2.2      0.062   \n",
       "1596            6.3             0.510         0.13             2.3      0.076   \n",
       "1597            5.9             0.645         0.12             2.0      0.075   \n",
       "1598            6.0             0.310         0.47             3.6      0.067   \n",
       "\n",
       "      free sulfur dioxide  total sulfur dioxide  density    pH  sulphates  \\\n",
       "1594                 32.0                  44.0  0.99490  3.45       0.58   \n",
       "1595                 39.0                  51.0  0.99512  3.52       0.76   \n",
       "1596                 29.0                  40.0  0.99574  3.42       0.75   \n",
       "1597                 32.0                  44.0  0.99547  3.57       0.71   \n",
       "1598                 18.0                  42.0  0.99549  3.39       0.66   \n",
       "\n",
       "      alcohol  quality  \n",
       "1594     10.5        5  \n",
       "1595     11.2        6  \n",
       "1596     11.0        6  \n",
       "1597     10.2        5  \n",
       "1598     11.0        6  "
      ]
     },
     "execution_count": 106,
     "metadata": {},
     "output_type": "execute_result"
    }
   ],
   "source": [
    "winequal.tail()"
   ]
  },
  {
   "cell_type": "code",
   "execution_count": 107,
   "metadata": {},
   "outputs": [
    {
     "data": {
      "text/plain": [
       "(1599, 12)"
      ]
     },
     "execution_count": 107,
     "metadata": {},
     "output_type": "execute_result"
    }
   ],
   "source": [
    "winequal.shape"
   ]
  },
  {
   "cell_type": "code",
   "execution_count": 108,
   "metadata": {},
   "outputs": [
    {
     "data": {
      "text/html": [
       "<div>\n",
       "<style scoped>\n",
       "    .dataframe tbody tr th:only-of-type {\n",
       "        vertical-align: middle;\n",
       "    }\n",
       "\n",
       "    .dataframe tbody tr th {\n",
       "        vertical-align: top;\n",
       "    }\n",
       "\n",
       "    .dataframe thead th {\n",
       "        text-align: right;\n",
       "    }\n",
       "</style>\n",
       "<table border=\"1\" class=\"dataframe\">\n",
       "  <thead>\n",
       "    <tr style=\"text-align: right;\">\n",
       "      <th></th>\n",
       "      <th>fixed acidity</th>\n",
       "      <th>volatile acidity</th>\n",
       "      <th>citric acid</th>\n",
       "      <th>residual sugar</th>\n",
       "      <th>chlorides</th>\n",
       "      <th>free sulfur dioxide</th>\n",
       "      <th>total sulfur dioxide</th>\n",
       "      <th>density</th>\n",
       "      <th>pH</th>\n",
       "      <th>sulphates</th>\n",
       "      <th>alcohol</th>\n",
       "      <th>quality</th>\n",
       "    </tr>\n",
       "  </thead>\n",
       "  <tbody>\n",
       "    <tr>\n",
       "      <th>count</th>\n",
       "      <td>1599.000000</td>\n",
       "      <td>1599.000000</td>\n",
       "      <td>1599.000000</td>\n",
       "      <td>1599.000000</td>\n",
       "      <td>1599.000000</td>\n",
       "      <td>1599.000000</td>\n",
       "      <td>1599.000000</td>\n",
       "      <td>1599.000000</td>\n",
       "      <td>1599.000000</td>\n",
       "      <td>1599.000000</td>\n",
       "      <td>1599.000000</td>\n",
       "      <td>1599.000000</td>\n",
       "    </tr>\n",
       "    <tr>\n",
       "      <th>mean</th>\n",
       "      <td>8.319637</td>\n",
       "      <td>0.527821</td>\n",
       "      <td>0.270976</td>\n",
       "      <td>2.538806</td>\n",
       "      <td>0.087467</td>\n",
       "      <td>15.874922</td>\n",
       "      <td>46.467792</td>\n",
       "      <td>0.996747</td>\n",
       "      <td>3.311113</td>\n",
       "      <td>0.658149</td>\n",
       "      <td>10.422983</td>\n",
       "      <td>5.636023</td>\n",
       "    </tr>\n",
       "    <tr>\n",
       "      <th>std</th>\n",
       "      <td>1.741096</td>\n",
       "      <td>0.179060</td>\n",
       "      <td>0.194801</td>\n",
       "      <td>1.409928</td>\n",
       "      <td>0.047065</td>\n",
       "      <td>10.460157</td>\n",
       "      <td>32.895324</td>\n",
       "      <td>0.001887</td>\n",
       "      <td>0.154386</td>\n",
       "      <td>0.169507</td>\n",
       "      <td>1.065668</td>\n",
       "      <td>0.807569</td>\n",
       "    </tr>\n",
       "    <tr>\n",
       "      <th>min</th>\n",
       "      <td>4.600000</td>\n",
       "      <td>0.120000</td>\n",
       "      <td>0.000000</td>\n",
       "      <td>0.900000</td>\n",
       "      <td>0.012000</td>\n",
       "      <td>1.000000</td>\n",
       "      <td>6.000000</td>\n",
       "      <td>0.990070</td>\n",
       "      <td>2.740000</td>\n",
       "      <td>0.330000</td>\n",
       "      <td>8.400000</td>\n",
       "      <td>3.000000</td>\n",
       "    </tr>\n",
       "    <tr>\n",
       "      <th>25%</th>\n",
       "      <td>7.100000</td>\n",
       "      <td>0.390000</td>\n",
       "      <td>0.090000</td>\n",
       "      <td>1.900000</td>\n",
       "      <td>0.070000</td>\n",
       "      <td>7.000000</td>\n",
       "      <td>22.000000</td>\n",
       "      <td>0.995600</td>\n",
       "      <td>3.210000</td>\n",
       "      <td>0.550000</td>\n",
       "      <td>9.500000</td>\n",
       "      <td>5.000000</td>\n",
       "    </tr>\n",
       "    <tr>\n",
       "      <th>50%</th>\n",
       "      <td>7.900000</td>\n",
       "      <td>0.520000</td>\n",
       "      <td>0.260000</td>\n",
       "      <td>2.200000</td>\n",
       "      <td>0.079000</td>\n",
       "      <td>14.000000</td>\n",
       "      <td>38.000000</td>\n",
       "      <td>0.996750</td>\n",
       "      <td>3.310000</td>\n",
       "      <td>0.620000</td>\n",
       "      <td>10.200000</td>\n",
       "      <td>6.000000</td>\n",
       "    </tr>\n",
       "    <tr>\n",
       "      <th>75%</th>\n",
       "      <td>9.200000</td>\n",
       "      <td>0.640000</td>\n",
       "      <td>0.420000</td>\n",
       "      <td>2.600000</td>\n",
       "      <td>0.090000</td>\n",
       "      <td>21.000000</td>\n",
       "      <td>62.000000</td>\n",
       "      <td>0.997835</td>\n",
       "      <td>3.400000</td>\n",
       "      <td>0.730000</td>\n",
       "      <td>11.100000</td>\n",
       "      <td>6.000000</td>\n",
       "    </tr>\n",
       "    <tr>\n",
       "      <th>max</th>\n",
       "      <td>15.900000</td>\n",
       "      <td>1.580000</td>\n",
       "      <td>1.000000</td>\n",
       "      <td>15.500000</td>\n",
       "      <td>0.611000</td>\n",
       "      <td>72.000000</td>\n",
       "      <td>289.000000</td>\n",
       "      <td>1.003690</td>\n",
       "      <td>4.010000</td>\n",
       "      <td>2.000000</td>\n",
       "      <td>14.900000</td>\n",
       "      <td>8.000000</td>\n",
       "    </tr>\n",
       "  </tbody>\n",
       "</table>\n",
       "</div>"
      ],
      "text/plain": [
       "       fixed acidity  volatile acidity  citric acid  residual sugar  \\\n",
       "count    1599.000000       1599.000000  1599.000000     1599.000000   \n",
       "mean        8.319637          0.527821     0.270976        2.538806   \n",
       "std         1.741096          0.179060     0.194801        1.409928   \n",
       "min         4.600000          0.120000     0.000000        0.900000   \n",
       "25%         7.100000          0.390000     0.090000        1.900000   \n",
       "50%         7.900000          0.520000     0.260000        2.200000   \n",
       "75%         9.200000          0.640000     0.420000        2.600000   \n",
       "max        15.900000          1.580000     1.000000       15.500000   \n",
       "\n",
       "         chlorides  free sulfur dioxide  total sulfur dioxide      density  \\\n",
       "count  1599.000000          1599.000000           1599.000000  1599.000000   \n",
       "mean      0.087467            15.874922             46.467792     0.996747   \n",
       "std       0.047065            10.460157             32.895324     0.001887   \n",
       "min       0.012000             1.000000              6.000000     0.990070   \n",
       "25%       0.070000             7.000000             22.000000     0.995600   \n",
       "50%       0.079000            14.000000             38.000000     0.996750   \n",
       "75%       0.090000            21.000000             62.000000     0.997835   \n",
       "max       0.611000            72.000000            289.000000     1.003690   \n",
       "\n",
       "                pH    sulphates      alcohol      quality  \n",
       "count  1599.000000  1599.000000  1599.000000  1599.000000  \n",
       "mean      3.311113     0.658149    10.422983     5.636023  \n",
       "std       0.154386     0.169507     1.065668     0.807569  \n",
       "min       2.740000     0.330000     8.400000     3.000000  \n",
       "25%       3.210000     0.550000     9.500000     5.000000  \n",
       "50%       3.310000     0.620000    10.200000     6.000000  \n",
       "75%       3.400000     0.730000    11.100000     6.000000  \n",
       "max       4.010000     2.000000    14.900000     8.000000  "
      ]
     },
     "execution_count": 108,
     "metadata": {},
     "output_type": "execute_result"
    }
   ],
   "source": [
    "winequal.describe()"
   ]
  },
  {
   "cell_type": "code",
   "execution_count": 109,
   "metadata": {},
   "outputs": [
    {
     "data": {
      "text/plain": [
       "fixed acidity           0\n",
       "volatile acidity        0\n",
       "citric acid             0\n",
       "residual sugar          0\n",
       "chlorides               0\n",
       "free sulfur dioxide     0\n",
       "total sulfur dioxide    0\n",
       "density                 0\n",
       "pH                      0\n",
       "sulphates               0\n",
       "alcohol                 0\n",
       "quality                 0\n",
       "dtype: int64"
      ]
     },
     "execution_count": 109,
     "metadata": {},
     "output_type": "execute_result"
    }
   ],
   "source": [
    "winequal.isnull().sum()"
   ]
  },
  {
   "cell_type": "code",
   "execution_count": 110,
   "metadata": {},
   "outputs": [
    {
     "data": {
      "text/plain": [
       "<matplotlib.axes._subplots.AxesSubplot at 0x22fe14f4308>"
      ]
     },
     "execution_count": 110,
     "metadata": {},
     "output_type": "execute_result"
    },
    {
     "data": {
      "image/png": "[encoded data removed]",
      "text/plain": [
       "<Figure size 432x288 with 2 Axes>"
      ]
     },
     "metadata": {
      "needs_background": "light"
     },
     "output_type": "display_data"
    }
   ],
   "source": [
    "sns.heatmap(winequal.isnull())"
   ]
  },
  {
   "cell_type": "code",
   "execution_count": 111,
   "metadata": {},
   "outputs": [
    {
     "data": {
      "text/plain": [
       "<matplotlib.axes._subplots.AxesSubplot at 0x22fe25a05c8>"
      ]
     },
     "execution_count": 111,
     "metadata": {},
     "output_type": "execute_result"
    },
    {
     "data": {
      "image/png": "[encoded data removed]",
      "text/plain": [
       "<Figure size 432x288 with 1 Axes>"
      ]
     },
     "metadata": {
      "needs_background": "light"
     },
     "output_type": "display_data"
    }
   ],
   "source": [
    "sns.lineplot(winequal['alcohol'],winequal['quality'])"
   ]
  },
  {
   "cell_type": "code",
   "execution_count": 112,
   "metadata": {},
   "outputs": [],
   "source": [
    "cor=winequal.corr()"
   ]
  },
  {
   "cell_type": "code",
   "execution_count": 113,
   "metadata": {},
   "outputs": [
    {
     "data": {
      "text/plain": [
       "<matplotlib.axes._subplots.AxesSubplot at 0x22fe4f7bd48>"
      ]
     },
     "execution_count": 113,
     "metadata": {},
     "output_type": "execute_result"
    },
    {
     "data": {
      "image/png": "[encoded data removed]",
      "text/plain": [
       "<Figure size 720x360 with 2 Axes>"
      ]
     },
     "metadata": {
      "needs_background": "light"
     },
     "output_type": "display_data"
    }
   ],
   "source": [
    "plt.figure(figsize=(10,5))\n",
    "sns.heatmap(cor,annot=True)"
   ]
  },
  {
   "cell_type": "code",
   "execution_count": 114,
   "metadata": {},
   "outputs": [
    {
     "data": {
      "text/plain": [
       "Index(['fixed acidity', 'volatile acidity', 'citric acid', 'residual sugar',\n",
       "       'chlorides', 'free sulfur dioxide', 'total sulfur dioxide', 'density',\n",
       "       'pH', 'sulphates', 'alcohol', 'quality'],\n",
       "      dtype='object')"
      ]
     },
     "execution_count": 114,
     "metadata": {},
     "output_type": "execute_result"
    }
   ],
   "source": [
    "winequal.columns"
   ]
  },
  {
   "cell_type": "code",
   "execution_count": 115,
   "metadata": {},
   "outputs": [
    {
     "data": {
      "text/plain": [
       "fixed acidity           1599\n",
       "volatile acidity        1599\n",
       "citric acid             1599\n",
       "residual sugar          1599\n",
       "chlorides               1599\n",
       "free sulfur dioxide     1599\n",
       "total sulfur dioxide    1599\n",
       "density                 1599\n",
       "pH                      1599\n",
       "sulphates               1599\n",
       "alcohol                 1599\n",
       "quality                 1599\n",
       "dtype: int64"
      ]
     },
     "execution_count": 115,
     "metadata": {},
     "output_type": "execute_result"
    }
   ],
   "source": [
    "winequal.count()"
   ]
  },
  {
   "cell_type": "code",
   "execution_count": 116,
   "metadata": {},
   "outputs": [],
   "source": [
    "colllist=winequal.columns.values"
   ]
  },
  {
   "cell_type": "code",
   "execution_count": 117,
   "metadata": {},
   "outputs": [
    {
     "data": {
      "image/png": "[encoded data removed]",
      "text/plain": [
       "<Figure size 1440x4320 with 11 Axes>"
      ]
     },
     "metadata": {
      "needs_background": "light"
     },
     "output_type": "display_data"
    }
   ],
   "source": [
    "ncol=12\n",
    "nrows=10\n",
    "plt.figure(figsize=(20,5*ncol))\n",
    "for i in range(1,len(colllist)):\n",
    "    plt.subplot(nrows,ncol,i+1)\n",
    "    sns.boxplot(winequal[colllist[i]],color='orange',orient='v')"
   ]
  },
  {
   "cell_type": "code",
   "execution_count": 118,
   "metadata": {},
   "outputs": [
    {
     "data": {
      "image/png": "[encoded data removed]",
      "text/plain": [
       "<Figure size 1440x4320 with 12 Axes>"
      ]
     },
     "metadata": {
      "needs_background": "light"
     },
     "output_type": "display_data"
    }
   ],
   "source": [
    "plt.figure(figsize=(20,5*ncol))\n",
    "for i in range(0,len(colllist)):\n",
    "    plt.subplot(nrows,ncol,i+1)\n",
    "    sns.distplot(winequal[colllist[i]],color='green')"
   ]
  },
  {
   "cell_type": "code",
   "execution_count": 119,
   "metadata": {},
   "outputs": [
    {
     "data": {
      "text/plain": [
       "<matplotlib.axes._subplots.AxesSubplot at 0x22fe21a29c8>"
      ]
     },
     "execution_count": 119,
     "metadata": {},
     "output_type": "execute_result"
    },
    {
     "data": {
      "image/png": "[encoded data removed]",
      "text/plain": [
       "<Figure size 432x288 with 1 Axes>"
      ]
     },
     "metadata": {
      "needs_background": "light"
     },
     "output_type": "display_data"
    }
   ],
   "source": [
    "sns.distplot(winequal)"
   ]
  },
  {
   "cell_type": "code",
   "execution_count": 120,
   "metadata": {},
   "outputs": [
    {
     "data": {
      "text/plain": [
       "array([[0.52835961, 0.96187667, 1.39147228, ..., 0.57920652, 0.96024611,\n",
       "        0.78782264],\n",
       "       [0.29854743, 1.96744245, 1.39147228, ..., 0.1289504 , 0.58477711,\n",
       "        0.78782264],\n",
       "       [0.29854743, 1.29706527, 1.18607043, ..., 0.04808883, 0.58477711,\n",
       "        0.78782264],\n",
       "       ...,\n",
       "       [1.1603431 , 0.09955388, 0.72391627, ..., 0.54204194, 0.54162988,\n",
       "        0.45084835],\n",
       "       [1.39015528, 0.65462046, 0.77526673, ..., 0.30598963, 0.20930812,\n",
       "        0.78782264],\n",
       "       [1.33270223, 1.21684919, 1.02199944, ..., 0.01092425, 0.54162988,\n",
       "        0.45084835]])"
      ]
     },
     "execution_count": 120,
     "metadata": {},
     "output_type": "execute_result"
    }
   ],
   "source": [
    "from scipy.stats import zscore\n",
    "z=np.abs(zscore(winequal))\n",
    "z"
   ]
  },
  {
   "cell_type": "code",
   "execution_count": 121,
   "metadata": {},
   "outputs": [],
   "source": [
    "threshold=3"
   ]
  },
  {
   "cell_type": "code",
   "execution_count": 122,
   "metadata": {},
   "outputs": [
    {
     "name": "stdout",
     "output_type": "stream",
     "text": [
      "(array([  13,   14,   15,   15,   17,   17,   19,   33,   38,   42,   43,\n",
      "         45,   57,   81,   81,   83,   86,   88,   91,   92,   95,  106,\n",
      "        106,  109,  120,  126,  127,  142,  144,  147,  151,  151,  151,\n",
      "        151,  163,  164,  169,  169,  181,  199,  226,  226,  240,  243,\n",
      "        244,  258,  258,  274,  281,  291,  324,  325,  339,  340,  347,\n",
      "        354,  374,  381,  391,  396,  396,  400,  400,  442,  442,  451,\n",
      "        459,  467,  480,  480,  494,  515,  517,  544,  554,  554,  555,\n",
      "        555,  557,  557,  568,  584,  588,  591,  595,  608,  614,  636,\n",
      "        639,  649,  649,  651,  652,  652,  652,  672,  672,  684,  690,\n",
      "        690,  692,  692,  695,  723,  724,  730,  754,  776,  777,  795,\n",
      "        821,  832,  836,  837,  889,  899,  911,  917,  923,  925,  926,\n",
      "        982, 1017, 1018, 1043, 1051, 1051, 1071, 1074, 1079, 1079, 1081,\n",
      "       1081, 1111, 1114, 1131, 1154, 1165, 1175, 1186, 1231, 1235, 1244,\n",
      "       1244, 1244, 1260, 1269, 1269, 1270, 1270, 1288, 1289, 1295, 1296,\n",
      "       1299, 1299, 1300, 1312, 1316, 1319, 1319, 1321, 1358, 1367, 1370,\n",
      "       1370, 1372, 1372, 1374, 1374, 1434, 1434, 1434, 1435, 1435, 1435,\n",
      "       1469, 1474, 1474, 1474, 1476, 1476, 1476, 1478, 1493, 1496, 1505,\n",
      "       1558, 1558, 1570, 1574, 1589], dtype=int64), array([ 9,  5,  5,  6,  4,  9,  4,  3,  1,  4,  9,  8,  5,  4,  9,  4,  9,\n",
      "        9,  9,  9,  8,  4,  9,  6,  1,  1,  1, 10, 10,  4,  2,  4,  8,  9,\n",
      "        3,  3,  4,  9,  4,  1,  4,  9,  4,  0,  0,  4,  9,  3,  4,  4,  3,\n",
      "        3,  9,  9,  0,  6,  0,  0,  0,  3,  5,  3,  5,  0,  7,  4, 11, 10,\n",
      "        3,  7,  3,  6, 11,  0,  0,  7,  0,  7,  0,  7,  4,  5, 10,  6,  3,\n",
      "        7,  9,  6,  9,  3,  6,  6,  0,  3, 10,  1,  6,  6,  1, 11,  4,  9,\n",
      "        8,  9,  1,  4,  4,  4,  4,  9, 10, 11,  7,  7,  7, 11,  3,  3,  3,\n",
      "        5,  5,  5,  7,  7,  3,  4,  9,  3,  3,  3,  6,  3,  6,  8,  7,  5,\n",
      "        5,  4,  5,  3,  5,  3,  3,  5,  6,  4,  7, 10,  7, 10,  9,  9,  5,\n",
      "        5,  1, 11,  8,  1,  8,  4,  9,  8,  5,  9,  4,  9,  4,  9,  4, 11,\n",
      "        3,  5,  7,  3,  5,  7, 11,  3,  5,  7,  3,  5,  7, 11,  6,  6, 11,\n",
      "        4,  5,  4,  3,  3], dtype=int64))\n"
     ]
    }
   ],
   "source": [
    "print(np.where(z>3))"
   ]
  },
  {
   "cell_type": "code",
   "execution_count": 123,
   "metadata": {},
   "outputs": [
    {
     "data": {
      "text/plain": [
       "5.32210116796055"
      ]
     },
     "execution_count": 123,
     "metadata": {},
     "output_type": "execute_result"
    }
   ],
   "source": [
    "z[13][9]"
   ]
  },
  {
   "cell_type": "code",
   "execution_count": 124,
   "metadata": {},
   "outputs": [],
   "source": [
    "winequal_new=winequal[(z<3).all(axis=1)]"
   ]
  },
  {
   "cell_type": "code",
   "execution_count": 125,
   "metadata": {},
   "outputs": [
    {
     "data": {
      "text/plain": [
       "(1451, 12)"
      ]
     },
     "execution_count": 125,
     "metadata": {},
     "output_type": "execute_result"
    }
   ],
   "source": [
    "winequal_new.shape"
   ]
  },
  {
   "cell_type": "code",
   "execution_count": 126,
   "metadata": {},
   "outputs": [
    {
     "data": {
      "text/plain": [
       "(1599, 12)"
      ]
     },
     "execution_count": 126,
     "metadata": {},
     "output_type": "execute_result"
    }
   ],
   "source": [
    "winequal.shape"
   ]
  },
  {
   "cell_type": "code",
   "execution_count": 127,
   "metadata": {},
   "outputs": [],
   "source": [
    "winequal=winequal_new"
   ]
  },
  {
   "cell_type": "code",
   "execution_count": 128,
   "metadata": {},
   "outputs": [],
   "source": [
    "x=winequal.iloc[:,0:-1]"
   ]
  },
  {
   "cell_type": "code",
   "execution_count": 129,
   "metadata": {},
   "outputs": [
    {
     "data": {
      "text/plain": [
       "(1451, 11)"
      ]
     },
     "execution_count": 129,
     "metadata": {},
     "output_type": "execute_result"
    }
   ],
   "source": [
    "x.shape"
   ]
  },
  {
   "cell_type": "code",
   "execution_count": 130,
   "metadata": {},
   "outputs": [
    {
     "data": {
      "text/html": [
       "<div>\n",
       "<style scoped>\n",
       "    .dataframe tbody tr th:only-of-type {\n",
       "        vertical-align: middle;\n",
       "    }\n",
       "\n",
       "    .dataframe tbody tr th {\n",
       "        vertical-align: top;\n",
       "    }\n",
       "\n",
       "    .dataframe thead th {\n",
       "        text-align: right;\n",
       "    }\n",
       "</style>\n",
       "<table border=\"1\" class=\"dataframe\">\n",
       "  <thead>\n",
       "    <tr style=\"text-align: right;\">\n",
       "      <th></th>\n",
       "      <th>fixed acidity</th>\n",
       "      <th>volatile acidity</th>\n",
       "      <th>citric acid</th>\n",
       "      <th>residual sugar</th>\n",
       "      <th>chlorides</th>\n",
       "      <th>free sulfur dioxide</th>\n",
       "      <th>total sulfur dioxide</th>\n",
       "      <th>density</th>\n",
       "      <th>pH</th>\n",
       "      <th>sulphates</th>\n",
       "      <th>alcohol</th>\n",
       "    </tr>\n",
       "  </thead>\n",
       "  <tbody>\n",
       "    <tr>\n",
       "      <th>0</th>\n",
       "      <td>7.4</td>\n",
       "      <td>0.70</td>\n",
       "      <td>0.00</td>\n",
       "      <td>1.9</td>\n",
       "      <td>0.076</td>\n",
       "      <td>11.0</td>\n",
       "      <td>34.0</td>\n",
       "      <td>0.9978</td>\n",
       "      <td>3.51</td>\n",
       "      <td>0.56</td>\n",
       "      <td>9.4</td>\n",
       "    </tr>\n",
       "    <tr>\n",
       "      <th>1</th>\n",
       "      <td>7.8</td>\n",
       "      <td>0.88</td>\n",
       "      <td>0.00</td>\n",
       "      <td>2.6</td>\n",
       "      <td>0.098</td>\n",
       "      <td>25.0</td>\n",
       "      <td>67.0</td>\n",
       "      <td>0.9968</td>\n",
       "      <td>3.20</td>\n",
       "      <td>0.68</td>\n",
       "      <td>9.8</td>\n",
       "    </tr>\n",
       "    <tr>\n",
       "      <th>2</th>\n",
       "      <td>7.8</td>\n",
       "      <td>0.76</td>\n",
       "      <td>0.04</td>\n",
       "      <td>2.3</td>\n",
       "      <td>0.092</td>\n",
       "      <td>15.0</td>\n",
       "      <td>54.0</td>\n",
       "      <td>0.9970</td>\n",
       "      <td>3.26</td>\n",
       "      <td>0.65</td>\n",
       "      <td>9.8</td>\n",
       "    </tr>\n",
       "    <tr>\n",
       "      <th>3</th>\n",
       "      <td>11.2</td>\n",
       "      <td>0.28</td>\n",
       "      <td>0.56</td>\n",
       "      <td>1.9</td>\n",
       "      <td>0.075</td>\n",
       "      <td>17.0</td>\n",
       "      <td>60.0</td>\n",
       "      <td>0.9980</td>\n",
       "      <td>3.16</td>\n",
       "      <td>0.58</td>\n",
       "      <td>9.8</td>\n",
       "    </tr>\n",
       "    <tr>\n",
       "      <th>4</th>\n",
       "      <td>7.4</td>\n",
       "      <td>0.70</td>\n",
       "      <td>0.00</td>\n",
       "      <td>1.9</td>\n",
       "      <td>0.076</td>\n",
       "      <td>11.0</td>\n",
       "      <td>34.0</td>\n",
       "      <td>0.9978</td>\n",
       "      <td>3.51</td>\n",
       "      <td>0.56</td>\n",
       "      <td>9.4</td>\n",
       "    </tr>\n",
       "  </tbody>\n",
       "</table>\n",
       "</div>"
      ],
      "text/plain": [
       "   fixed acidity  volatile acidity  citric acid  residual sugar  chlorides  \\\n",
       "0            7.4              0.70         0.00             1.9      0.076   \n",
       "1            7.8              0.88         0.00             2.6      0.098   \n",
       "2            7.8              0.76         0.04             2.3      0.092   \n",
       "3           11.2              0.28         0.56             1.9      0.075   \n",
       "4            7.4              0.70         0.00             1.9      0.076   \n",
       "\n",
       "   free sulfur dioxide  total sulfur dioxide  density    pH  sulphates  \\\n",
       "0                 11.0                  34.0   0.9978  3.51       0.56   \n",
       "1                 25.0                  67.0   0.9968  3.20       0.68   \n",
       "2                 15.0                  54.0   0.9970  3.26       0.65   \n",
       "3                 17.0                  60.0   0.9980  3.16       0.58   \n",
       "4                 11.0                  34.0   0.9978  3.51       0.56   \n",
       "\n",
       "   alcohol  \n",
       "0      9.4  \n",
       "1      9.8  \n",
       "2      9.8  \n",
       "3      9.8  \n",
       "4      9.4  "
      ]
     },
     "execution_count": 130,
     "metadata": {},
     "output_type": "execute_result"
    }
   ],
   "source": [
    "x.head()"
   ]
  },
  {
   "cell_type": "code",
   "execution_count": 131,
   "metadata": {},
   "outputs": [],
   "source": [
    "y=winequal.iloc[:,-1]"
   ]
  },
  {
   "cell_type": "code",
   "execution_count": 132,
   "metadata": {},
   "outputs": [
    {
     "data": {
      "text/plain": [
       "(1451,)"
      ]
     },
     "execution_count": 132,
     "metadata": {},
     "output_type": "execute_result"
    }
   ],
   "source": [
    "y.shape"
   ]
  },
  {
   "cell_type": "code",
   "execution_count": 133,
   "metadata": {},
   "outputs": [],
   "source": [
    "from sklearn.model_selection import train_test_split\n",
    "from sklearn.linear_model import LogisticRegression\n",
    "from sklearn.naive_bayes import MultinomialNB\n",
    "from sklearn.svm import SVC\n",
    "from sklearn.tree import DecisionTreeClassifier\n",
    "from sklearn.neighbors import KNeighborsClassifier\n",
    "from sklearn.metrics import accuracy_score,confusion_matrix,classification_report"
   ]
  },
  {
   "cell_type": "code",
   "execution_count": 134,
   "metadata": {},
   "outputs": [
    {
     "name": "stdout",
     "output_type": "stream",
     "text": [
      "Accuracy SCORE is equal to : 0.5425 at random state 42\n",
      "Accuracy SCORE is equal to : 0.585 at random state 43\n",
      "Accuracy SCORE is equal to : 0.575 at random state 44\n",
      "Accuracy SCORE is equal to : 0.5775 at random state 45\n",
      "Accuracy SCORE is equal to : 0.6225 at random state 46\n",
      "Accuracy SCORE is equal to : 0.595 at random state 47\n",
      "Accuracy SCORE is equal to : 0.585 at random state 48\n",
      "Accuracy SCORE is equal to : 0.6325 at random state 49\n",
      "Accuracy SCORE is equal to : 0.6175 at random state 50\n",
      "Accuracy SCORE is equal to : 0.61 at random state 51\n",
      "Accuracy SCORE is equal to : 0.5975 at random state 52\n",
      "Accuracy SCORE is equal to : 0.585 at random state 53\n",
      "Accuracy SCORE is equal to : 0.545 at random state 54\n",
      "Accuracy SCORE is equal to : 0.5575 at random state 55\n",
      "Accuracy SCORE is equal to : 0.5825 at random state 56\n",
      "Accuracy SCORE is equal to : 0.6275 at random state 57\n",
      "Accuracy SCORE is equal to : 0.5725 at random state 58\n",
      "Accuracy SCORE is equal to : 0.6025 at random state 59\n",
      "Accuracy SCORE is equal to : 0.565 at random state 60\n",
      "Accuracy SCORE is equal to : 0.57 at random state 61\n",
      "Accuracy SCORE is equal to : 0.6025 at random state 62\n",
      "Accuracy SCORE is equal to : 0.595 at random state 63\n",
      "Accuracy SCORE is equal to : 0.6 at random state 64\n",
      "Accuracy SCORE is equal to : 0.5975 at random state 65\n",
      "Accuracy SCORE is equal to : 0.6075 at random state 66\n",
      "Accuracy SCORE is equal to : 0.5975 at random state 67\n",
      "Accuracy SCORE is equal to : 0.655 at random state 68\n",
      "Accuracy SCORE is equal to : 0.585 at random state 69\n",
      "Accuracy SCORE is equal to : 0.6075 at random state 70\n",
      "Accuracy SCORE is equal to : 0.62 at random state 71\n",
      "Accuracy SCORE is equal to : 0.5825 at random state 72\n",
      "Accuracy SCORE is equal to : 0.605 at random state 73\n",
      "Accuracy SCORE is equal to : 0.6075 at random state 74\n",
      "Accuracy SCORE is equal to : 0.605 at random state 75\n",
      "Accuracy SCORE is equal to : 0.585 at random state 76\n",
      "Accuracy SCORE is equal to : 0.5275 at random state 77\n",
      "Accuracy SCORE is equal to : 0.5725 at random state 78\n",
      "Accuracy SCORE is equal to : 0.5675 at random state 79\n",
      "Accuracy SCORE is equal to : 0.565 at random state 80\n",
      "Accuracy SCORE is equal to : 0.5725 at random state 81\n",
      "Accuracy SCORE is equal to : 0.585 at random state 82\n",
      "Accuracy SCORE is equal to : 0.605 at random state 83\n",
      "Accuracy SCORE is equal to : 0.5475 at random state 84\n",
      "Accuracy SCORE is equal to : 0.5825 at random state 85\n",
      "Accuracy SCORE is equal to : 0.575 at random state 86\n",
      "Accuracy SCORE is equal to : 0.61 at random state 87\n",
      "Accuracy SCORE is equal to : 0.625 at random state 88\n",
      "Accuracy SCORE is equal to : 0.5425 at random state 89\n",
      "Accuracy SCORE is equal to : 0.5975 at random state 90\n",
      "Accuracy SCORE is equal to : 0.6075 at random state 91\n",
      "Accuracy SCORE is equal to : 0.63 at random state 92\n",
      "Accuracy SCORE is equal to : 0.61 at random state 93\n",
      "Accuracy SCORE is equal to : 0.6225 at random state 94\n",
      "Accuracy SCORE is equal to : 0.585 at random state 95\n",
      "Accuracy SCORE is equal to : 0.5775 at random state 96\n",
      "Accuracy SCORE is equal to : 0.595 at random state 97\n",
      "Accuracy SCORE is equal to : 0.5825 at random state 98\n",
      "Accuracy SCORE is equal to : 0.6075 at random state 99\n",
      "Accuracy SCORE is equal to : 0.5625 at random state 100\n",
      "The maximum Accuracy_score is  0.655 at random state 68\n"
     ]
    }
   ],
   "source": [
    "max_score=0\n",
    "final_rstate=0\n",
    "\n",
    "for i in range(42,101):\n",
    "    x_train,x_test,y_train,y_test=train_test_split(x,y,test_size=400,random_state=i)\n",
    "    lg=LogisticRegression()\n",
    "    lg.fit(x_train,y_train)\n",
    "    lg.score(x_train,y_train)\n",
    "    predlg=lg.predict(x_test)\n",
    "    acc_score=accuracy_score(y_test,predlg)\n",
    "    print(\"Accuracy SCORE is equal to :\",acc_score,\"at random state\",i)\n",
    "    if acc_score > max_score:\n",
    "        max_score=acc_score\n",
    "        final_rstate=i\n",
    "        \n",
    "        \n",
    "    \n",
    "    \n",
    "print(\"The maximum Accuracy_score is \",max_score, \"at random state\",final_rstate) "
   ]
  },
  {
   "cell_type": "code",
   "execution_count": 135,
   "metadata": {},
   "outputs": [
    {
     "name": "stdout",
     "output_type": "stream",
     "text": [
      "Accuracy SCORE is equal to : 0.655 at random state 68 \n",
      " \n",
      "\n",
      "\n",
      " \n",
      "Confusion Matrix is -- \n",
      " \n",
      " [[  0   7   2   0   0]\n",
      " [  0 139  43   1   0]\n",
      " [  0  42 117   1   0]\n",
      " [  0   1  39   6   0]\n",
      " [  0   0   1   1   0]]\n",
      "\n",
      " \n",
      "Classification_report is -- \n",
      " \n",
      "               precision    recall  f1-score   support\n",
      "\n",
      "           4       0.00      0.00      0.00         9\n",
      "           5       0.74      0.76      0.75       183\n",
      "           6       0.58      0.73      0.65       160\n",
      "           7       0.67      0.13      0.22        46\n",
      "           8       0.00      0.00      0.00         2\n",
      "\n",
      "    accuracy                           0.66       400\n",
      "   macro avg       0.40      0.32      0.32       400\n",
      "weighted avg       0.64      0.66      0.63       400\n",
      "\n"
     ]
    }
   ],
   "source": [
    "x_train,x_test,y_train,y_test=train_test_split(x,y,test_size=400,random_state=68)\n",
    "lg=LogisticRegression()\n",
    "lg.fit(x_train,y_train)\n",
    "lg.score(x_train,y_train)\n",
    "predlg=lg.predict(x_test)\n",
    "acc_score=accuracy_score(y_test,predlg)\n",
    "print(\"Accuracy SCORE is equal to :\",acc_score,\"at random state 68 \\n \\n\")\n",
    "print(\"\\n \\nConfusion Matrix is -- \\n \\n\",confusion_matrix(y_test,predlg))\n",
    "print(\"\\n \\nClassification_report is -- \\n \\n\",classification_report(y_test,predlg))"
   ]
  },
  {
   "cell_type": "code",
   "execution_count": 136,
   "metadata": {},
   "outputs": [
    {
     "name": "stdout",
     "output_type": "stream",
     "text": [
      "Accuracy SCORE is equal to : 0.4275 at random state 42\n",
      "Accuracy SCORE is equal to : 0.4325 at random state 43\n",
      "Accuracy SCORE is equal to : 0.4075 at random state 44\n",
      "Accuracy SCORE is equal to : 0.465 at random state 45\n",
      "Accuracy SCORE is equal to : 0.4875 at random state 46\n",
      "Accuracy SCORE is equal to : 0.4675 at random state 47\n",
      "Accuracy SCORE is equal to : 0.4325 at random state 48\n",
      "Accuracy SCORE is equal to : 0.4025 at random state 49\n",
      "Accuracy SCORE is equal to : 0.4775 at random state 50\n",
      "Accuracy SCORE is equal to : 0.4325 at random state 51\n",
      "Accuracy SCORE is equal to : 0.4525 at random state 52\n",
      "Accuracy SCORE is equal to : 0.45 at random state 53\n",
      "Accuracy SCORE is equal to : 0.43 at random state 54\n",
      "Accuracy SCORE is equal to : 0.4625 at random state 55\n",
      "Accuracy SCORE is equal to : 0.445 at random state 56\n",
      "Accuracy SCORE is equal to : 0.4275 at random state 57\n",
      "Accuracy SCORE is equal to : 0.4175 at random state 58\n",
      "Accuracy SCORE is equal to : 0.46 at random state 59\n",
      "Accuracy SCORE is equal to : 0.4475 at random state 60\n",
      "Accuracy SCORE is equal to : 0.39 at random state 61\n",
      "Accuracy SCORE is equal to : 0.4525 at random state 62\n",
      "Accuracy SCORE is equal to : 0.415 at random state 63\n",
      "Accuracy SCORE is equal to : 0.455 at random state 64\n",
      "Accuracy SCORE is equal to : 0.4475 at random state 65\n",
      "Accuracy SCORE is equal to : 0.4725 at random state 66\n",
      "Accuracy SCORE is equal to : 0.44 at random state 67\n",
      "Accuracy SCORE is equal to : 0.435 at random state 68\n",
      "Accuracy SCORE is equal to : 0.48 at random state 69\n",
      "Accuracy SCORE is equal to : 0.445 at random state 70\n",
      "Accuracy SCORE is equal to : 0.4375 at random state 71\n",
      "Accuracy SCORE is equal to : 0.4575 at random state 72\n",
      "Accuracy SCORE is equal to : 0.4475 at random state 73\n",
      "Accuracy SCORE is equal to : 0.425 at random state 74\n",
      "Accuracy SCORE is equal to : 0.4125 at random state 75\n",
      "Accuracy SCORE is equal to : 0.4 at random state 76\n",
      "Accuracy SCORE is equal to : 0.3975 at random state 77\n",
      "Accuracy SCORE is equal to : 0.42 at random state 78\n",
      "Accuracy SCORE is equal to : 0.455 at random state 79\n",
      "Accuracy SCORE is equal to : 0.4625 at random state 80\n",
      "Accuracy SCORE is equal to : 0.4425 at random state 81\n",
      "Accuracy SCORE is equal to : 0.415 at random state 82\n",
      "Accuracy SCORE is equal to : 0.39 at random state 83\n",
      "Accuracy SCORE is equal to : 0.4375 at random state 84\n",
      "Accuracy SCORE is equal to : 0.4325 at random state 85\n",
      "Accuracy SCORE is equal to : 0.4375 at random state 86\n",
      "Accuracy SCORE is equal to : 0.425 at random state 87\n",
      "Accuracy SCORE is equal to : 0.465 at random state 88\n",
      "Accuracy SCORE is equal to : 0.42 at random state 89\n",
      "Accuracy SCORE is equal to : 0.41 at random state 90\n",
      "Accuracy SCORE is equal to : 0.43 at random state 91\n",
      "Accuracy SCORE is equal to : 0.44 at random state 92\n",
      "Accuracy SCORE is equal to : 0.475 at random state 93\n",
      "Accuracy SCORE is equal to : 0.4525 at random state 94\n",
      "Accuracy SCORE is equal to : 0.4525 at random state 95\n",
      "Accuracy SCORE is equal to : 0.4475 at random state 96\n",
      "Accuracy SCORE is equal to : 0.44 at random state 97\n",
      "Accuracy SCORE is equal to : 0.445 at random state 98\n",
      "Accuracy SCORE is equal to : 0.385 at random state 99\n",
      "Accuracy SCORE is equal to : 0.4425 at random state 100\n",
      "The maximum Accuracy_score is  0.4875 at random state 46\n"
     ]
    }
   ],
   "source": [
    "max_score=0\n",
    "final_rstate=0\n",
    "for i in range(42,101):\n",
    "    x_train,x_test,y_train,y_test=train_test_split(x,y,test_size=400,random_state=i)\n",
    "    mnb=MultinomialNB()\n",
    "    mnb.fit(x_train,y_train)\n",
    "    predmnb=mnb.predict(x_test)\n",
    "    acc_score=accuracy_score(y_test,predmnb)\n",
    "    print(\"Accuracy SCORE is equal to :\",acc_score,\"at random state\",i)\n",
    "    if acc_score > max_score:\n",
    "        max_score=acc_score\n",
    "        final_rstate=i\n",
    "    \n",
    "\n",
    "print(\"The maximum Accuracy_score is \",max_score, \"at random state\",final_rstate) \n"
   ]
  },
  {
   "cell_type": "code",
   "execution_count": 137,
   "metadata": {},
   "outputs": [
    {
     "name": "stdout",
     "output_type": "stream",
     "text": [
      "Accuracy SCORE is equal to : 0.4875 at random state 46 \n",
      " \n",
      "\n",
      "\n",
      " \n",
      "Confusion Matrix is -- \n",
      " \n",
      " [[  0   3   2   4   0]\n",
      " [  0 105  39  36   0]\n",
      " [  0  55  67  39   0]\n",
      " [  0   7  15  23   0]\n",
      " [  0   0   3   2   0]]\n",
      "\n",
      " \n",
      "Classification_report is -- \n",
      " \n",
      "               precision    recall  f1-score   support\n",
      "\n",
      "           4       0.00      0.00      0.00         9\n",
      "           5       0.62      0.58      0.60       180\n",
      "           6       0.53      0.42      0.47       161\n",
      "           7       0.22      0.51      0.31        45\n",
      "           8       0.00      0.00      0.00         5\n",
      "\n",
      "    accuracy                           0.49       400\n",
      "   macro avg       0.27      0.30      0.28       400\n",
      "weighted avg       0.52      0.49      0.49       400\n",
      "\n"
     ]
    }
   ],
   "source": [
    "x_train,x_test,y_train,y_test=train_test_split(x,y,test_size=400,random_state=46)\n",
    "mnb=MultinomialNB()\n",
    "mnb.fit(x_train,y_train)\n",
    "predmnb=mnb.predict(x_test)\n",
    "acc_score=accuracy_score(y_test,predmnb)\n",
    "print(\"Accuracy SCORE is equal to :\",acc_score,\"at random state 46 \\n \\n\")\n",
    "print(\"\\n \\nConfusion Matrix is -- \\n \\n\",confusion_matrix(y_test,predmnb))\n",
    "print(\"\\n \\nClassification_report is -- \\n \\n\",classification_report(y_test,predmnb))\n"
   ]
  },
  {
   "cell_type": "code",
   "execution_count": 138,
   "metadata": {},
   "outputs": [
    {
     "name": "stdout",
     "output_type": "stream",
     "text": [
      "Accuracy SCORE is equal to : 0.4875 at random state 42\n",
      "Accuracy SCORE is equal to : 0.4675 at random state 43\n",
      "Accuracy SCORE is equal to : 0.4825 at random state 44\n",
      "Accuracy SCORE is equal to : 0.5 at random state 45\n",
      "Accuracy SCORE is equal to : 0.5175 at random state 46\n",
      "Accuracy SCORE is equal to : 0.4725 at random state 47\n",
      "Accuracy SCORE is equal to : 0.495 at random state 48\n",
      "Accuracy SCORE is equal to : 0.505 at random state 49\n",
      "Accuracy SCORE is equal to : 0.48 at random state 50\n",
      "Accuracy SCORE is equal to : 0.5125 at random state 51\n",
      "Accuracy SCORE is equal to : 0.5275 at random state 52\n",
      "Accuracy SCORE is equal to : 0.5175 at random state 53\n",
      "Accuracy SCORE is equal to : 0.4925 at random state 54\n",
      "Accuracy SCORE is equal to : 0.4925 at random state 55\n",
      "Accuracy SCORE is equal to : 0.48 at random state 56\n",
      "Accuracy SCORE is equal to : 0.5025 at random state 57\n",
      "Accuracy SCORE is equal to : 0.475 at random state 58\n",
      "Accuracy SCORE is equal to : 0.52 at random state 59\n",
      "Accuracy SCORE is equal to : 0.5375 at random state 60\n",
      "Accuracy SCORE is equal to : 0.47 at random state 61\n",
      "Accuracy SCORE is equal to : 0.5175 at random state 62\n",
      "Accuracy SCORE is equal to : 0.465 at random state 63\n",
      "Accuracy SCORE is equal to : 0.4725 at random state 64\n",
      "Accuracy SCORE is equal to : 0.4675 at random state 65\n",
      "Accuracy SCORE is equal to : 0.5075 at random state 66\n",
      "Accuracy SCORE is equal to : 0.525 at random state 67\n",
      "Accuracy SCORE is equal to : 0.495 at random state 68\n",
      "Accuracy SCORE is equal to : 0.49 at random state 69\n",
      "Accuracy SCORE is equal to : 0.54 at random state 70\n",
      "Accuracy SCORE is equal to : 0.49 at random state 71\n",
      "Accuracy SCORE is equal to : 0.465 at random state 72\n",
      "Accuracy SCORE is equal to : 0.495 at random state 73\n",
      "Accuracy SCORE is equal to : 0.5125 at random state 74\n",
      "Accuracy SCORE is equal to : 0.495 at random state 75\n",
      "Accuracy SCORE is equal to : 0.5075 at random state 76\n",
      "Accuracy SCORE is equal to : 0.4575 at random state 77\n",
      "Accuracy SCORE is equal to : 0.4675 at random state 78\n",
      "Accuracy SCORE is equal to : 0.4925 at random state 79\n",
      "Accuracy SCORE is equal to : 0.49 at random state 80\n",
      "Accuracy SCORE is equal to : 0.495 at random state 81\n",
      "Accuracy SCORE is equal to : 0.4825 at random state 82\n",
      "Accuracy SCORE is equal to : 0.4725 at random state 83\n",
      "Accuracy SCORE is equal to : 0.475 at random state 84\n",
      "Accuracy SCORE is equal to : 0.5225 at random state 85\n",
      "Accuracy SCORE is equal to : 0.505 at random state 86\n",
      "Accuracy SCORE is equal to : 0.4625 at random state 87\n",
      "Accuracy SCORE is equal to : 0.51 at random state 88\n",
      "Accuracy SCORE is equal to : 0.4925 at random state 89\n",
      "Accuracy SCORE is equal to : 0.49 at random state 90\n",
      "Accuracy SCORE is equal to : 0.515 at random state 91\n",
      "Accuracy SCORE is equal to : 0.5125 at random state 92\n",
      "Accuracy SCORE is equal to : 0.5075 at random state 93\n",
      "Accuracy SCORE is equal to : 0.49 at random state 94\n",
      "Accuracy SCORE is equal to : 0.4925 at random state 95\n",
      "Accuracy SCORE is equal to : 0.4975 at random state 96\n",
      "Accuracy SCORE is equal to : 0.495 at random state 97\n",
      "Accuracy SCORE is equal to : 0.5325 at random state 98\n",
      "Accuracy SCORE is equal to : 0.475 at random state 99\n",
      "Accuracy SCORE is equal to : 0.5 at random state 100\n",
      "The maximum Accuracy_score is  0.54 at random state 70\n"
     ]
    }
   ],
   "source": [
    "max_score=0\n",
    "final_rstate=0\n",
    "for i in range(42,101):\n",
    "    x_train,x_test,y_train,y_test=train_test_split(x,y,test_size=400,random_state=i)\n",
    "    svc=SVC(kernel='rbf')\n",
    "    svc.fit(x_train,y_train)\n",
    "    svc.score(x_train,y_train)\n",
    "    predsvc=svc.predict(x_test)\n",
    "    acc_score=accuracy_score(y_test,predsvc)\n",
    "    print(\"Accuracy SCORE is equal to :\",acc_score,\"at random state\",i)\n",
    "    if acc_score > max_score:\n",
    "        max_score=acc_score\n",
    "        final_rstate=i\n",
    "    \n",
    "\n",
    "print(\"The maximum Accuracy_score is \",max_score, \"at random state\",final_rstate) \n",
    "        "
   ]
  },
  {
   "cell_type": "code",
   "execution_count": 139,
   "metadata": {},
   "outputs": [
    {
     "name": "stdout",
     "output_type": "stream",
     "text": [
      "Accuracy SCORE is equal to : 0.54 at random state 70 \n",
      " \n",
      "\n",
      "\n",
      " \n",
      "Confusion Matrix is -- \n",
      " \n",
      " [[  0   2  11   0   0]\n",
      " [  0  70 111   0   0]\n",
      " [  0  23 146   0   0]\n",
      " [  0   1  34   0   0]\n",
      " [  0   0   2   0   0]]\n",
      "\n",
      " \n",
      "Classification_report is -- \n",
      " \n",
      "               precision    recall  f1-score   support\n",
      "\n",
      "           4       0.00      0.00      0.00        13\n",
      "           5       0.73      0.39      0.51       181\n",
      "           6       0.48      0.86      0.62       169\n",
      "           7       0.00      0.00      0.00        35\n",
      "           8       0.00      0.00      0.00         2\n",
      "\n",
      "    accuracy                           0.54       400\n",
      "   macro avg       0.24      0.25      0.22       400\n",
      "weighted avg       0.53      0.54      0.49       400\n",
      "\n"
     ]
    }
   ],
   "source": [
    "x_train,x_test,y_train,y_test=train_test_split(x,y,test_size=400,random_state=70)\n",
    "svc=SVC(kernel='rbf')\n",
    "svc.fit(x_train,y_train)\n",
    "svc.score(x_train,y_train)\n",
    "predsvc=svc.predict(x_test)\n",
    "acc_score=accuracy_score(y_test,predsvc)\n",
    "print(\"Accuracy SCORE is equal to :\",acc_score,\"at random state 70 \\n \\n\")\n",
    "print(\"\\n \\nConfusion Matrix is -- \\n \\n\",confusion_matrix(y_test,predsvc))\n",
    "print(\"\\n \\nClassification_report is -- \\n \\n\",classification_report(y_test,predsvc))"
   ]
  },
  {
   "cell_type": "code",
   "execution_count": 140,
   "metadata": {},
   "outputs": [
    {
     "name": "stdout",
     "output_type": "stream",
     "text": [
      "Accuracy SCORE is equal to : 0.4625 at random state 42\n",
      "Accuracy SCORE is equal to : 0.4575 at random state 43\n",
      "Accuracy SCORE is equal to : 0.485 at random state 44\n",
      "Accuracy SCORE is equal to : 0.47 at random state 45\n",
      "Accuracy SCORE is equal to : 0.48 at random state 46\n",
      "Accuracy SCORE is equal to : 0.465 at random state 47\n",
      "Accuracy SCORE is equal to : 0.4775 at random state 48\n",
      "Accuracy SCORE is equal to : 0.5 at random state 49\n",
      "Accuracy SCORE is equal to : 0.45 at random state 50\n",
      "Accuracy SCORE is equal to : 0.49 at random state 51\n",
      "Accuracy SCORE is equal to : 0.5175 at random state 52\n",
      "Accuracy SCORE is equal to : 0.5225 at random state 53\n",
      "Accuracy SCORE is equal to : 0.4725 at random state 54\n",
      "Accuracy SCORE is equal to : 0.4675 at random state 55\n",
      "Accuracy SCORE is equal to : 0.465 at random state 56\n",
      "Accuracy SCORE is equal to : 0.495 at random state 57\n",
      "Accuracy SCORE is equal to : 0.46 at random state 58\n",
      "Accuracy SCORE is equal to : 0.4725 at random state 59\n",
      "Accuracy SCORE is equal to : 0.485 at random state 60\n",
      "Accuracy SCORE is equal to : 0.47 at random state 61\n",
      "Accuracy SCORE is equal to : 0.4975 at random state 62\n",
      "Accuracy SCORE is equal to : 0.45 at random state 63\n",
      "Accuracy SCORE is equal to : 0.4625 at random state 64\n",
      "Accuracy SCORE is equal to : 0.4575 at random state 65\n",
      "Accuracy SCORE is equal to : 0.4675 at random state 66\n",
      "Accuracy SCORE is equal to : 0.49 at random state 67\n",
      "Accuracy SCORE is equal to : 0.485 at random state 68\n",
      "Accuracy SCORE is equal to : 0.4825 at random state 69\n",
      "Accuracy SCORE is equal to : 0.5075 at random state 70\n",
      "Accuracy SCORE is equal to : 0.5075 at random state 71\n",
      "Accuracy SCORE is equal to : 0.4575 at random state 72\n",
      "Accuracy SCORE is equal to : 0.4925 at random state 73\n",
      "Accuracy SCORE is equal to : 0.5 at random state 74\n",
      "Accuracy SCORE is equal to : 0.475 at random state 75\n",
      "Accuracy SCORE is equal to : 0.49 at random state 76\n",
      "Accuracy SCORE is equal to : 0.4725 at random state 77\n",
      "Accuracy SCORE is equal to : 0.48 at random state 78\n",
      "Accuracy SCORE is equal to : 0.48 at random state 79\n",
      "Accuracy SCORE is equal to : 0.465 at random state 80\n",
      "Accuracy SCORE is equal to : 0.4925 at random state 81\n",
      "Accuracy SCORE is equal to : 0.4625 at random state 82\n",
      "Accuracy SCORE is equal to : 0.46 at random state 83\n",
      "Accuracy SCORE is equal to : 0.48 at random state 84\n",
      "Accuracy SCORE is equal to : 0.53 at random state 85\n",
      "Accuracy SCORE is equal to : 0.485 at random state 86\n",
      "Accuracy SCORE is equal to : 0.4675 at random state 87\n",
      "Accuracy SCORE is equal to : 0.4875 at random state 88\n",
      "Accuracy SCORE is equal to : 0.4775 at random state 89\n",
      "Accuracy SCORE is equal to : 0.4875 at random state 90\n",
      "Accuracy SCORE is equal to : 0.49 at random state 91\n",
      "Accuracy SCORE is equal to : 0.505 at random state 92\n",
      "Accuracy SCORE is equal to : 0.48 at random state 93\n",
      "Accuracy SCORE is equal to : 0.4925 at random state 94\n",
      "Accuracy SCORE is equal to : 0.4725 at random state 95\n",
      "Accuracy SCORE is equal to : 0.4775 at random state 96\n",
      "Accuracy SCORE is equal to : 0.495 at random state 97\n",
      "Accuracy SCORE is equal to : 0.5275 at random state 98\n",
      "Accuracy SCORE is equal to : 0.465 at random state 99\n",
      "Accuracy SCORE is equal to : 0.4975 at random state 100\n",
      "The maximum Accuracy_score is  0.53 at random state 85\n"
     ]
    }
   ],
   "source": [
    "max_score=0\n",
    "final_rstate=0\n",
    "for i in range(42,101):\n",
    "    x_train,x_test,y_train,y_test=train_test_split(x,y,test_size=400,random_state=i)\n",
    "    svc=SVC(kernel='poly')\n",
    "    svc.fit(x_train,y_train)\n",
    "    svc.score(x_train,y_train)\n",
    "    predsvc=svc.predict(x_test)\n",
    "    acc_score=accuracy_score(y_test,predsvc)\n",
    "    print(\"Accuracy SCORE is equal to :\",acc_score,\"at random state\",i)\n",
    "    if acc_score > max_score:\n",
    "        max_score=acc_score\n",
    "        final_rstate=i\n",
    "    \n",
    "\n",
    "print(\"The maximum Accuracy_score is \",max_score, \"at random state\",final_rstate) "
   ]
  },
  {
   "cell_type": "code",
   "execution_count": 141,
   "metadata": {},
   "outputs": [
    {
     "name": "stdout",
     "output_type": "stream",
     "text": [
      "Accuracy SCORE is equal to : 0.53 at random state 85 \n",
      " \n",
      "\n",
      "\n",
      " \n",
      "Confusion Matrix is -- \n",
      " \n",
      " [[  0   2   9   0   0]\n",
      " [  0  46 119   0   0]\n",
      " [  0   8 166   0   0]\n",
      " [  0   1  42   0   0]\n",
      " [  0   1   6   0   0]]\n",
      "\n",
      " \n",
      "Classification_report is -- \n",
      " \n",
      "               precision    recall  f1-score   support\n",
      "\n",
      "           4       0.00      0.00      0.00        11\n",
      "           5       0.79      0.28      0.41       165\n",
      "           6       0.49      0.95      0.64       174\n",
      "           7       0.00      0.00      0.00        43\n",
      "           8       0.00      0.00      0.00         7\n",
      "\n",
      "    accuracy                           0.53       400\n",
      "   macro avg       0.26      0.25      0.21       400\n",
      "weighted avg       0.54      0.53      0.45       400\n",
      "\n"
     ]
    }
   ],
   "source": [
    "x_train,x_test,y_train,y_test=train_test_split(x,y,test_size=400,random_state=85)\n",
    "svc=SVC(kernel='poly')\n",
    "svc.fit(x_train,y_train)\n",
    "svc.score(x_train,y_train)\n",
    "predsvc=svc.predict(x_test)\n",
    "acc_score=accuracy_score(y_test,predsvc)\n",
    "print(\"Accuracy SCORE is equal to :\",acc_score,\"at random state 85 \\n \\n\")\n",
    "print(\"\\n \\nConfusion Matrix is -- \\n \\n\",confusion_matrix(y_test,predsvc))\n",
    "print(\"\\n \\nClassification_report is -- \\n \\n\",classification_report(y_test,predsvc))"
   ]
  },
  {
   "cell_type": "code",
   "execution_count": 142,
   "metadata": {},
   "outputs": [
    {
     "name": "stdout",
     "output_type": "stream",
     "text": [
      "Accuracy SCORE is equal to : 0.57 at random state 42\n",
      "Accuracy SCORE is equal to : 0.64 at random state 43\n",
      "Accuracy SCORE is equal to : 0.6175 at random state 44\n",
      "Accuracy SCORE is equal to : 0.6275 at random state 45\n",
      "Accuracy SCORE is equal to : 0.5875 at random state 46\n",
      "Accuracy SCORE is equal to : 0.5975 at random state 47\n",
      "Accuracy SCORE is equal to : 0.5775 at random state 48\n",
      "Accuracy SCORE is equal to : 0.595 at random state 49\n",
      "Accuracy SCORE is equal to : 0.5925 at random state 50\n",
      "Accuracy SCORE is equal to : 0.63 at random state 51\n",
      "Accuracy SCORE is equal to : 0.59 at random state 52\n",
      "Accuracy SCORE is equal to : 0.645 at random state 53\n",
      "Accuracy SCORE is equal to : 0.625 at random state 54\n",
      "Accuracy SCORE is equal to : 0.615 at random state 55\n",
      "Accuracy SCORE is equal to : 0.5375 at random state 56\n",
      "Accuracy SCORE is equal to : 0.625 at random state 57\n",
      "Accuracy SCORE is equal to : 0.5425 at random state 58\n",
      "Accuracy SCORE is equal to : 0.65 at random state 59\n",
      "Accuracy SCORE is equal to : 0.615 at random state 60\n",
      "Accuracy SCORE is equal to : 0.5725 at random state 61\n",
      "Accuracy SCORE is equal to : 0.62 at random state 62\n",
      "Accuracy SCORE is equal to : 0.59 at random state 63\n",
      "Accuracy SCORE is equal to : 0.58 at random state 64\n",
      "Accuracy SCORE is equal to : 0.6375 at random state 65\n",
      "Accuracy SCORE is equal to : 0.64 at random state 66\n",
      "Accuracy SCORE is equal to : 0.6275 at random state 67\n",
      "Accuracy SCORE is equal to : 0.6425 at random state 68\n",
      "Accuracy SCORE is equal to : 0.58 at random state 69\n",
      "Accuracy SCORE is equal to : 0.6 at random state 70\n",
      "Accuracy SCORE is equal to : 0.585 at random state 71\n",
      "Accuracy SCORE is equal to : 0.635 at random state 72\n",
      "Accuracy SCORE is equal to : 0.5775 at random state 73\n",
      "Accuracy SCORE is equal to : 0.605 at random state 74\n",
      "Accuracy SCORE is equal to : 0.6375 at random state 75\n",
      "Accuracy SCORE is equal to : 0.5925 at random state 76\n",
      "Accuracy SCORE is equal to : 0.535 at random state 77\n",
      "Accuracy SCORE is equal to : 0.59 at random state 78\n",
      "Accuracy SCORE is equal to : 0.6225 at random state 79\n",
      "Accuracy SCORE is equal to : 0.58 at random state 80\n",
      "Accuracy SCORE is equal to : 0.5575 at random state 81\n",
      "Accuracy SCORE is equal to : 0.6275 at random state 82\n",
      "Accuracy SCORE is equal to : 0.605 at random state 83\n",
      "Accuracy SCORE is equal to : 0.62 at random state 84\n",
      "Accuracy SCORE is equal to : 0.62 at random state 85\n",
      "Accuracy SCORE is equal to : 0.615 at random state 86\n",
      "Accuracy SCORE is equal to : 0.63 at random state 87\n",
      "Accuracy SCORE is equal to : 0.6375 at random state 88\n",
      "Accuracy SCORE is equal to : 0.6075 at random state 89\n",
      "Accuracy SCORE is equal to : 0.5825 at random state 90\n",
      "Accuracy SCORE is equal to : 0.635 at random state 91\n",
      "Accuracy SCORE is equal to : 0.59 at random state 92\n",
      "Accuracy SCORE is equal to : 0.5775 at random state 93\n",
      "Accuracy SCORE is equal to : 0.5675 at random state 94\n",
      "Accuracy SCORE is equal to : 0.61 at random state 95\n",
      "Accuracy SCORE is equal to : 0.6225 at random state 96\n",
      "Accuracy SCORE is equal to : 0.62 at random state 97\n",
      "Accuracy SCORE is equal to : 0.5925 at random state 98\n",
      "Accuracy SCORE is equal to : 0.5925 at random state 99\n",
      "Accuracy SCORE is equal to : 0.6 at random state 100\n",
      "The maximum Accuracy_score is  0.65 at random state 59\n"
     ]
    }
   ],
   "source": [
    "max_score=0\n",
    "final_rstate=0\n",
    "for i in range(42,101):\n",
    "    x_train,x_test,y_train,y_test=train_test_split(x,y,test_size=400,random_state=i)\n",
    "    dtc=DecisionTreeClassifier()\n",
    "    dtc.fit(x_train,y_train)\n",
    "    dtc.score(x_train,y_train)\n",
    "    preddtc=dtc.predict(x_test)\n",
    "    acc_score=accuracy_score(y_test,preddtc)\n",
    "    print(\"Accuracy SCORE is equal to :\",acc_score,\"at random state\",i)\n",
    "    if acc_score > max_score:\n",
    "        max_score=acc_score\n",
    "        final_rstate=i\n",
    "    \n",
    "\n",
    "print(\"The maximum Accuracy_score is \",max_score, \"at random state\",final_rstate) "
   ]
  },
  {
   "cell_type": "code",
   "execution_count": 143,
   "metadata": {},
   "outputs": [
    {
     "name": "stdout",
     "output_type": "stream",
     "text": [
      "Accuracy SCORE is equal to : 0.675 at random state 59 \n",
      " \n",
      "\n",
      "\n",
      " \n",
      "Confusion Matrix is -- \n",
      " \n",
      " [[  1   8   3   0   0]\n",
      " [  5 130  39   4   3]\n",
      " [  1  23 109  20   0]\n",
      " [  1   4  14  28   1]\n",
      " [  0   1   1   2   2]]\n",
      "\n",
      " \n",
      "Classification_report is -- \n",
      " \n",
      "               precision    recall  f1-score   support\n",
      "\n",
      "           4       0.12      0.08      0.10        12\n",
      "           5       0.78      0.72      0.75       181\n",
      "           6       0.66      0.71      0.68       153\n",
      "           7       0.52      0.58      0.55        48\n",
      "           8       0.33      0.33      0.33         6\n",
      "\n",
      "    accuracy                           0.68       400\n",
      "   macro avg       0.48      0.49      0.48       400\n",
      "weighted avg       0.68      0.68      0.67       400\n",
      "\n"
     ]
    }
   ],
   "source": [
    "x_train,x_test,y_train,y_test=train_test_split(x,y,test_size=400,random_state=59)\n",
    "dtc=DecisionTreeClassifier()\n",
    "dtc.fit(x_train,y_train)\n",
    "dtc.score(x_train,y_train)\n",
    "preddtc=dtc.predict(x_test)\n",
    "acc_score=accuracy_score(y_test,preddtc)\n",
    "print(\"Accuracy SCORE is equal to :\",acc_score,\"at random state 59 \\n \\n\")\n",
    "print(\"\\n \\nConfusion Matrix is -- \\n \\n\",confusion_matrix(y_test,preddtc))\n",
    "print(\"\\n \\nClassification_report is -- \\n \\n\",classification_report(y_test,preddtc))\n"
   ]
  },
  {
   "cell_type": "code",
   "execution_count": 144,
   "metadata": {},
   "outputs": [
    {
     "name": "stdout",
     "output_type": "stream",
     "text": [
      "Accuracy SCORE is equal to : 0.8925 at random state 42\n",
      "Accuracy SCORE is equal to : 0.9 at random state 43\n",
      "Accuracy SCORE is equal to : 0.91 at random state 44\n",
      "Accuracy SCORE is equal to : 0.91 at random state 45\n",
      "Accuracy SCORE is equal to : 0.935 at random state 46\n",
      "Accuracy SCORE is equal to : 0.925 at random state 47\n",
      "Accuracy SCORE is equal to : 0.9175 at random state 48\n",
      "Accuracy SCORE is equal to : 0.8975 at random state 49\n",
      "Accuracy SCORE is equal to : 0.895 at random state 50\n",
      "Accuracy SCORE is equal to : 0.9275 at random state 51\n",
      "Accuracy SCORE is equal to : 0.93 at random state 52\n",
      "Accuracy SCORE is equal to : 0.9175 at random state 53\n",
      "Accuracy SCORE is equal to : 0.9075 at random state 54\n",
      "Accuracy SCORE is equal to : 0.9075 at random state 55\n",
      "Accuracy SCORE is equal to : 0.905 at random state 56\n",
      "Accuracy SCORE is equal to : 0.9175 at random state 57\n",
      "Accuracy SCORE is equal to : 0.9125 at random state 58\n",
      "Accuracy SCORE is equal to : 0.675 at random state 59\n",
      "Accuracy SCORE is equal to : 0.9025 at random state 60\n",
      "Accuracy SCORE is equal to : 0.9125 at random state 61\n",
      "Accuracy SCORE is equal to : 0.9375 at random state 62\n",
      "Accuracy SCORE is equal to : 0.91 at random state 63\n",
      "Accuracy SCORE is equal to : 0.91 at random state 64\n",
      "Accuracy SCORE is equal to : 0.905 at random state 65\n",
      "Accuracy SCORE is equal to : 0.895 at random state 66\n",
      "Accuracy SCORE is equal to : 0.895 at random state 67\n",
      "Accuracy SCORE is equal to : 0.9075 at random state 68\n",
      "Accuracy SCORE is equal to : 0.895 at random state 69\n",
      "Accuracy SCORE is equal to : 0.8925 at random state 70\n",
      "Accuracy SCORE is equal to : 0.9075 at random state 71\n",
      "Accuracy SCORE is equal to : 0.9125 at random state 72\n",
      "Accuracy SCORE is equal to : 0.935 at random state 73\n",
      "Accuracy SCORE is equal to : 0.9 at random state 74\n",
      "Accuracy SCORE is equal to : 0.91 at random state 75\n",
      "Accuracy SCORE is equal to : 0.9175 at random state 76\n",
      "Accuracy SCORE is equal to : 0.8975 at random state 77\n",
      "Accuracy SCORE is equal to : 0.9075 at random state 78\n",
      "Accuracy SCORE is equal to : 0.91 at random state 79\n",
      "Accuracy SCORE is equal to : 0.91 at random state 80\n",
      "Accuracy SCORE is equal to : 0.88 at random state 81\n",
      "Accuracy SCORE is equal to : 0.905 at random state 82\n",
      "Accuracy SCORE is equal to : 0.9075 at random state 83\n",
      "Accuracy SCORE is equal to : 0.9125 at random state 84\n",
      "Accuracy SCORE is equal to : 0.9125 at random state 85\n",
      "Accuracy SCORE is equal to : 0.9125 at random state 86\n",
      "Accuracy SCORE is equal to : 0.9175 at random state 87\n",
      "Accuracy SCORE is equal to : 0.915 at random state 88\n",
      "Accuracy SCORE is equal to : 0.9075 at random state 89\n",
      "Accuracy SCORE is equal to : 0.9 at random state 90\n",
      "Accuracy SCORE is equal to : 0.9 at random state 91\n",
      "Accuracy SCORE is equal to : 0.8975 at random state 92\n",
      "Accuracy SCORE is equal to : 0.9225 at random state 93\n",
      "Accuracy SCORE is equal to : 0.93 at random state 94\n",
      "Accuracy SCORE is equal to : 0.9175 at random state 95\n",
      "Accuracy SCORE is equal to : 0.8925 at random state 96\n",
      "Accuracy SCORE is equal to : 0.9225 at random state 97\n",
      "Accuracy SCORE is equal to : 0.895 at random state 98\n",
      "Accuracy SCORE is equal to : 0.9225 at random state 99\n",
      "Accuracy SCORE is equal to : 0.9075 at random state 100\n",
      "The maximum Accuracy_score is  0.9375 at random state 62\n"
     ]
    }
   ],
   "source": [
    "max_score=0\n",
    "final_rstate=0\n",
    "for i in range(42,101):\n",
    "    x_train,x_test,y_train,y_test=train_test_split(x,y,test_size=400,random_state=i)\n",
    "    knn=KNeighborsClassifier()\n",
    "    knn.fit(x_train,y_train)\n",
    "    knn.score(x_train,y_train)\n",
    "    predknn=dtc.predict(x_test)\n",
    "    acc_score=accuracy_score(y_test,predknn)\n",
    "    print(\"Accuracy SCORE is equal to :\",acc_score,\"at random state\",i)\n",
    "    \n",
    "    if acc_score > max_score:\n",
    "        max_score=acc_score\n",
    "        final_rstate=i\n",
    "    \n",
    "\n",
    "print(\"The maximum Accuracy_score is \",max_score, \"at random state\",final_rstate) \n",
    "        "
   ]
  },
  {
   "cell_type": "code",
   "execution_count": 145,
   "metadata": {},
   "outputs": [
    {
     "name": "stdout",
     "output_type": "stream",
     "text": [
      "Accuracy SCORE is equal to : 0.9375 at random state 62 \n",
      " \n",
      "\n",
      "\n",
      " \n",
      "Confusion Matrix is -- \n",
      " \n",
      " [[  9   1   1   0   0]\n",
      " [  3 155   8   0   0]\n",
      " [  0   3 161   6   0]\n",
      " [  0   0   3  47   0]\n",
      " [  0   0   0   0   3]]\n",
      "\n",
      " \n",
      "Classification_report is -- \n",
      " \n",
      "               precision    recall  f1-score   support\n",
      "\n",
      "           4       0.75      0.82      0.78        11\n",
      "           5       0.97      0.93      0.95       166\n",
      "           6       0.93      0.95      0.94       170\n",
      "           7       0.89      0.94      0.91        50\n",
      "           8       1.00      1.00      1.00         3\n",
      "\n",
      "    accuracy                           0.94       400\n",
      "   macro avg       0.91      0.93      0.92       400\n",
      "weighted avg       0.94      0.94      0.94       400\n",
      "\n"
     ]
    }
   ],
   "source": [
    "x_train,x_test,y_train,y_test=train_test_split(x,y,test_size=400,random_state=62)\n",
    "knn=KNeighborsClassifier()\n",
    "knn.fit(x_train,y_train)\n",
    "knn.score(x_train,y_train)\n",
    "predknn=dtc.predict(x_test)\n",
    "acc_score=accuracy_score(y_test,predknn)\n",
    "print(\"Accuracy SCORE is equal to :\",acc_score,\"at random state 62 \\n \\n\")\n",
    "print(\"\\n \\nConfusion Matrix is -- \\n \\n\",confusion_matrix(y_test,predknn))\n",
    "print(\"\\n \\nClassification_report is -- \\n \\n\",classification_report(y_test,predknn))"
   ]
  },
  {
   "cell_type": "code",
   "execution_count": 146,
   "metadata": {},
   "outputs": [
    {
     "name": "stdout",
     "output_type": "stream",
     "text": [
      "[0.48347107 0.51652893 0.42561983 0.46694215 0.46280992 0.48547718]\n",
      "0.4734748465416138\n",
      "0.02752015406646671\n"
     ]
    }
   ],
   "source": [
    "from sklearn.model_selection import cross_val_score\n",
    "score=cross_val_score(dtc,x,y,cv=6)\n",
    "print(score)\n",
    "print(score.mean())\n",
    "print(score.std())\n",
    "    "
   ]
  },
  {
   "cell_type": "code",
   "execution_count": 147,
   "metadata": {},
   "outputs": [
    {
     "data": {
      "text/plain": [
       "['lg_Wine_quality.pkl']"
      ]
     },
     "execution_count": 147,
     "metadata": {},
     "output_type": "execute_result"
    }
   ],
   "source": [
    "from sklearn.externals import joblib\n",
    "joblib.dump(lg,\"lg_Wine_quality.pkl\")"
   ]
  },
  {
   "cell_type": "code",
   "execution_count": null,
   "metadata": {},
   "outputs": [],
   "source": []
  }
 ],
 "metadata": {
  "kernelspec": {
   "display_name": "Python 3",
   "language": "python",
   "name": "python3"
  },
  "language_info": {
   "codemirror_mode": {
    "name": "ipython",
    "version": 3
   },
   "file_extension": ".py",
   "mimetype": "text/x-python",
   "name": "python",
   "nbconvert_exporter": "python",
   "pygments_lexer": "ipython3",
   "version": "3.7.6"
  }
 },
 "nbformat": 4,
 "nbformat_minor": 4
}
