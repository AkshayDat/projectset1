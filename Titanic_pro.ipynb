{
 "cells": [
  {
   "cell_type": "code",
   "execution_count": 17,
   "metadata": {},
   "outputs": [],
   "source": [
    "import pandas as pd \n",
    "import numpy as np\n",
    "import seaborn as sns\n",
    "import matplotlib.pyplot as plt \n",
    "import warnings \n",
    "warnings.filterwarnings('ignore')"
   ]
  },
  {
   "cell_type": "code",
   "execution_count": 18,
   "metadata": {},
   "outputs": [],
   "source": [
    "titanic_df=pd.read_csv(\"titanic_train.csv\")"
   ]
  },
  {
   "cell_type": "code",
   "execution_count": 19,
   "metadata": {},
   "outputs": [
    {
     "data": {
      "text/html": [
       "<div>\n",
       "<style scoped>\n",
       "    .dataframe tbody tr th:only-of-type {\n",
       "        vertical-align: middle;\n",
       "    }\n",
       "\n",
       "    .dataframe tbody tr th {\n",
       "        vertical-align: top;\n",
       "    }\n",
       "\n",
       "    .dataframe thead th {\n",
       "        text-align: right;\n",
       "    }\n",
       "</style>\n",
       "<table border=\"1\" class=\"dataframe\">\n",
       "  <thead>\n",
       "    <tr style=\"text-align: right;\">\n",
       "      <th></th>\n",
       "      <th>PassengerId</th>\n",
       "      <th>Survived</th>\n",
       "      <th>Pclass</th>\n",
       "      <th>Name</th>\n",
       "      <th>Sex</th>\n",
       "      <th>Age</th>\n",
       "      <th>SibSp</th>\n",
       "      <th>Parch</th>\n",
       "      <th>Ticket</th>\n",
       "      <th>Fare</th>\n",
       "      <th>Cabin</th>\n",
       "      <th>Embarked</th>\n",
       "    </tr>\n",
       "  </thead>\n",
       "  <tbody>\n",
       "    <tr>\n",
       "      <th>0</th>\n",
       "      <td>1</td>\n",
       "      <td>0</td>\n",
       "      <td>3</td>\n",
       "      <td>Braund, Mr. Owen Harris</td>\n",
       "      <td>male</td>\n",
       "      <td>22.0</td>\n",
       "      <td>1</td>\n",
       "      <td>0</td>\n",
       "      <td>A/5 21171</td>\n",
       "      <td>7.2500</td>\n",
       "      <td>NaN</td>\n",
       "      <td>S</td>\n",
       "    </tr>\n",
       "    <tr>\n",
       "      <th>1</th>\n",
       "      <td>2</td>\n",
       "      <td>1</td>\n",
       "      <td>1</td>\n",
       "      <td>Cumings, Mrs. John Bradley (Florence Briggs Th...</td>\n",
       "      <td>female</td>\n",
       "      <td>38.0</td>\n",
       "      <td>1</td>\n",
       "      <td>0</td>\n",
       "      <td>PC 17599</td>\n",
       "      <td>71.2833</td>\n",
       "      <td>C85</td>\n",
       "      <td>C</td>\n",
       "    </tr>\n",
       "    <tr>\n",
       "      <th>2</th>\n",
       "      <td>3</td>\n",
       "      <td>1</td>\n",
       "      <td>3</td>\n",
       "      <td>Heikkinen, Miss. Laina</td>\n",
       "      <td>female</td>\n",
       "      <td>26.0</td>\n",
       "      <td>0</td>\n",
       "      <td>0</td>\n",
       "      <td>STON/O2. 3101282</td>\n",
       "      <td>7.9250</td>\n",
       "      <td>NaN</td>\n",
       "      <td>S</td>\n",
       "    </tr>\n",
       "    <tr>\n",
       "      <th>3</th>\n",
       "      <td>4</td>\n",
       "      <td>1</td>\n",
       "      <td>1</td>\n",
       "      <td>Futrelle, Mrs. Jacques Heath (Lily May Peel)</td>\n",
       "      <td>female</td>\n",
       "      <td>35.0</td>\n",
       "      <td>1</td>\n",
       "      <td>0</td>\n",
       "      <td>113803</td>\n",
       "      <td>53.1000</td>\n",
       "      <td>C123</td>\n",
       "      <td>S</td>\n",
       "    </tr>\n",
       "    <tr>\n",
       "      <th>4</th>\n",
       "      <td>5</td>\n",
       "      <td>0</td>\n",
       "      <td>3</td>\n",
       "      <td>Allen, Mr. William Henry</td>\n",
       "      <td>male</td>\n",
       "      <td>35.0</td>\n",
       "      <td>0</td>\n",
       "      <td>0</td>\n",
       "      <td>373450</td>\n",
       "      <td>8.0500</td>\n",
       "      <td>NaN</td>\n",
       "      <td>S</td>\n",
       "    </tr>\n",
       "  </tbody>\n",
       "</table>\n",
       "</div>"
      ],
      "text/plain": [
       "   PassengerId  Survived  Pclass  \\\n",
       "0            1         0       3   \n",
       "1            2         1       1   \n",
       "2            3         1       3   \n",
       "3            4         1       1   \n",
       "4            5         0       3   \n",
       "\n",
       "                                                Name     Sex   Age  SibSp  \\\n",
       "0                            Braund, Mr. Owen Harris    male  22.0      1   \n",
       "1  Cumings, Mrs. John Bradley (Florence Briggs Th...  female  38.0      1   \n",
       "2                             Heikkinen, Miss. Laina  female  26.0      0   \n",
       "3       Futrelle, Mrs. Jacques Heath (Lily May Peel)  female  35.0      1   \n",
       "4                           Allen, Mr. William Henry    male  35.0      0   \n",
       "\n",
       "   Parch            Ticket     Fare Cabin Embarked  \n",
       "0      0         A/5 21171   7.2500   NaN        S  \n",
       "1      0          PC 17599  71.2833   C85        C  \n",
       "2      0  STON/O2. 3101282   7.9250   NaN        S  \n",
       "3      0            113803  53.1000  C123        S  \n",
       "4      0            373450   8.0500   NaN        S  "
      ]
     },
     "execution_count": 19,
     "metadata": {},
     "output_type": "execute_result"
    }
   ],
   "source": [
    "titanic_df.head()"
   ]
  },
  {
   "cell_type": "code",
   "execution_count": 20,
   "metadata": {},
   "outputs": [
    {
     "data": {
      "text/html": [
       "<div>\n",
       "<style scoped>\n",
       "    .dataframe tbody tr th:only-of-type {\n",
       "        vertical-align: middle;\n",
       "    }\n",
       "\n",
       "    .dataframe tbody tr th {\n",
       "        vertical-align: top;\n",
       "    }\n",
       "\n",
       "    .dataframe thead th {\n",
       "        text-align: right;\n",
       "    }\n",
       "</style>\n",
       "<table border=\"1\" class=\"dataframe\">\n",
       "  <thead>\n",
       "    <tr style=\"text-align: right;\">\n",
       "      <th></th>\n",
       "      <th>PassengerId</th>\n",
       "      <th>Survived</th>\n",
       "      <th>Pclass</th>\n",
       "      <th>Name</th>\n",
       "      <th>Sex</th>\n",
       "      <th>Age</th>\n",
       "      <th>SibSp</th>\n",
       "      <th>Parch</th>\n",
       "      <th>Ticket</th>\n",
       "      <th>Fare</th>\n",
       "      <th>Cabin</th>\n",
       "      <th>Embarked</th>\n",
       "    </tr>\n",
       "  </thead>\n",
       "  <tbody>\n",
       "    <tr>\n",
       "      <th>886</th>\n",
       "      <td>887</td>\n",
       "      <td>0</td>\n",
       "      <td>2</td>\n",
       "      <td>Montvila, Rev. Juozas</td>\n",
       "      <td>male</td>\n",
       "      <td>27.0</td>\n",
       "      <td>0</td>\n",
       "      <td>0</td>\n",
       "      <td>211536</td>\n",
       "      <td>13.00</td>\n",
       "      <td>NaN</td>\n",
       "      <td>S</td>\n",
       "    </tr>\n",
       "    <tr>\n",
       "      <th>887</th>\n",
       "      <td>888</td>\n",
       "      <td>1</td>\n",
       "      <td>1</td>\n",
       "      <td>Graham, Miss. Margaret Edith</td>\n",
       "      <td>female</td>\n",
       "      <td>19.0</td>\n",
       "      <td>0</td>\n",
       "      <td>0</td>\n",
       "      <td>112053</td>\n",
       "      <td>30.00</td>\n",
       "      <td>B42</td>\n",
       "      <td>S</td>\n",
       "    </tr>\n",
       "    <tr>\n",
       "      <th>888</th>\n",
       "      <td>889</td>\n",
       "      <td>0</td>\n",
       "      <td>3</td>\n",
       "      <td>Johnston, Miss. Catherine Helen \"Carrie\"</td>\n",
       "      <td>female</td>\n",
       "      <td>NaN</td>\n",
       "      <td>1</td>\n",
       "      <td>2</td>\n",
       "      <td>W./C. 6607</td>\n",
       "      <td>23.45</td>\n",
       "      <td>NaN</td>\n",
       "      <td>S</td>\n",
       "    </tr>\n",
       "    <tr>\n",
       "      <th>889</th>\n",
       "      <td>890</td>\n",
       "      <td>1</td>\n",
       "      <td>1</td>\n",
       "      <td>Behr, Mr. Karl Howell</td>\n",
       "      <td>male</td>\n",
       "      <td>26.0</td>\n",
       "      <td>0</td>\n",
       "      <td>0</td>\n",
       "      <td>111369</td>\n",
       "      <td>30.00</td>\n",
       "      <td>C148</td>\n",
       "      <td>C</td>\n",
       "    </tr>\n",
       "    <tr>\n",
       "      <th>890</th>\n",
       "      <td>891</td>\n",
       "      <td>0</td>\n",
       "      <td>3</td>\n",
       "      <td>Dooley, Mr. Patrick</td>\n",
       "      <td>male</td>\n",
       "      <td>32.0</td>\n",
       "      <td>0</td>\n",
       "      <td>0</td>\n",
       "      <td>370376</td>\n",
       "      <td>7.75</td>\n",
       "      <td>NaN</td>\n",
       "      <td>Q</td>\n",
       "    </tr>\n",
       "  </tbody>\n",
       "</table>\n",
       "</div>"
      ],
      "text/plain": [
       "     PassengerId  Survived  Pclass                                      Name  \\\n",
       "886          887         0       2                     Montvila, Rev. Juozas   \n",
       "887          888         1       1              Graham, Miss. Margaret Edith   \n",
       "888          889         0       3  Johnston, Miss. Catherine Helen \"Carrie\"   \n",
       "889          890         1       1                     Behr, Mr. Karl Howell   \n",
       "890          891         0       3                       Dooley, Mr. Patrick   \n",
       "\n",
       "        Sex   Age  SibSp  Parch      Ticket   Fare Cabin Embarked  \n",
       "886    male  27.0      0      0      211536  13.00   NaN        S  \n",
       "887  female  19.0      0      0      112053  30.00   B42        S  \n",
       "888  female   NaN      1      2  W./C. 6607  23.45   NaN        S  \n",
       "889    male  26.0      0      0      111369  30.00  C148        C  \n",
       "890    male  32.0      0      0      370376   7.75   NaN        Q  "
      ]
     },
     "execution_count": 20,
     "metadata": {},
     "output_type": "execute_result"
    }
   ],
   "source": [
    "titanic_df.tail()"
   ]
  },
  {
   "cell_type": "code",
   "execution_count": 21,
   "metadata": {},
   "outputs": [
    {
     "data": {
      "text/plain": [
       "<matplotlib.axes._subplots.AxesSubplot at 0x29fc2aa8d88>"
      ]
     },
     "execution_count": 21,
     "metadata": {},
     "output_type": "execute_result"
    },
    {
     "data": {
      "image/png": "[encoded data removed]",
      "text/plain": [
       "<Figure size 432x288 with 2 Axes>"
      ]
     },
     "metadata": {
      "needs_background": "light"
     },
     "output_type": "display_data"
    }
   ],
   "source": [
    "sns.heatmap(titanic_df.isnull())"
   ]
  },
  {
   "cell_type": "code",
   "execution_count": 22,
   "metadata": {},
   "outputs": [
    {
     "data": {
      "text/plain": [
       "PassengerId      0\n",
       "Survived         0\n",
       "Pclass           0\n",
       "Name             0\n",
       "Sex              0\n",
       "Age            177\n",
       "SibSp            0\n",
       "Parch            0\n",
       "Ticket           0\n",
       "Fare             0\n",
       "Cabin          687\n",
       "Embarked         2\n",
       "dtype: int64"
      ]
     },
     "execution_count": 22,
     "metadata": {},
     "output_type": "execute_result"
    }
   ],
   "source": [
    "titanic_df.isnull().sum()"
   ]
  },
  {
   "cell_type": "code",
   "execution_count": 23,
   "metadata": {},
   "outputs": [
    {
     "data": {
      "text/html": [
       "<div>\n",
       "<style scoped>\n",
       "    .dataframe tbody tr th:only-of-type {\n",
       "        vertical-align: middle;\n",
       "    }\n",
       "\n",
       "    .dataframe tbody tr th {\n",
       "        vertical-align: top;\n",
       "    }\n",
       "\n",
       "    .dataframe thead th {\n",
       "        text-align: right;\n",
       "    }\n",
       "</style>\n",
       "<table border=\"1\" class=\"dataframe\">\n",
       "  <thead>\n",
       "    <tr style=\"text-align: right;\">\n",
       "      <th></th>\n",
       "      <th>PassengerId</th>\n",
       "      <th>Survived</th>\n",
       "      <th>Pclass</th>\n",
       "      <th>Age</th>\n",
       "      <th>SibSp</th>\n",
       "      <th>Parch</th>\n",
       "      <th>Fare</th>\n",
       "    </tr>\n",
       "  </thead>\n",
       "  <tbody>\n",
       "    <tr>\n",
       "      <th>count</th>\n",
       "      <td>891.000000</td>\n",
       "      <td>891.000000</td>\n",
       "      <td>891.000000</td>\n",
       "      <td>714.000000</td>\n",
       "      <td>891.000000</td>\n",
       "      <td>891.000000</td>\n",
       "      <td>891.000000</td>\n",
       "    </tr>\n",
       "    <tr>\n",
       "      <th>mean</th>\n",
       "      <td>446.000000</td>\n",
       "      <td>0.383838</td>\n",
       "      <td>2.308642</td>\n",
       "      <td>29.699118</td>\n",
       "      <td>0.523008</td>\n",
       "      <td>0.381594</td>\n",
       "      <td>32.204208</td>\n",
       "    </tr>\n",
       "    <tr>\n",
       "      <th>std</th>\n",
       "      <td>257.353842</td>\n",
       "      <td>0.486592</td>\n",
       "      <td>0.836071</td>\n",
       "      <td>14.526497</td>\n",
       "      <td>1.102743</td>\n",
       "      <td>0.806057</td>\n",
       "      <td>49.693429</td>\n",
       "    </tr>\n",
       "    <tr>\n",
       "      <th>min</th>\n",
       "      <td>1.000000</td>\n",
       "      <td>0.000000</td>\n",
       "      <td>1.000000</td>\n",
       "      <td>0.420000</td>\n",
       "      <td>0.000000</td>\n",
       "      <td>0.000000</td>\n",
       "      <td>0.000000</td>\n",
       "    </tr>\n",
       "    <tr>\n",
       "      <th>25%</th>\n",
       "      <td>223.500000</td>\n",
       "      <td>0.000000</td>\n",
       "      <td>2.000000</td>\n",
       "      <td>20.125000</td>\n",
       "      <td>0.000000</td>\n",
       "      <td>0.000000</td>\n",
       "      <td>7.910400</td>\n",
       "    </tr>\n",
       "    <tr>\n",
       "      <th>50%</th>\n",
       "      <td>446.000000</td>\n",
       "      <td>0.000000</td>\n",
       "      <td>3.000000</td>\n",
       "      <td>28.000000</td>\n",
       "      <td>0.000000</td>\n",
       "      <td>0.000000</td>\n",
       "      <td>14.454200</td>\n",
       "    </tr>\n",
       "    <tr>\n",
       "      <th>75%</th>\n",
       "      <td>668.500000</td>\n",
       "      <td>1.000000</td>\n",
       "      <td>3.000000</td>\n",
       "      <td>38.000000</td>\n",
       "      <td>1.000000</td>\n",
       "      <td>0.000000</td>\n",
       "      <td>31.000000</td>\n",
       "    </tr>\n",
       "    <tr>\n",
       "      <th>max</th>\n",
       "      <td>891.000000</td>\n",
       "      <td>1.000000</td>\n",
       "      <td>3.000000</td>\n",
       "      <td>80.000000</td>\n",
       "      <td>8.000000</td>\n",
       "      <td>6.000000</td>\n",
       "      <td>512.329200</td>\n",
       "    </tr>\n",
       "  </tbody>\n",
       "</table>\n",
       "</div>"
      ],
      "text/plain": [
       "       PassengerId    Survived      Pclass         Age       SibSp  \\\n",
       "count   891.000000  891.000000  891.000000  714.000000  891.000000   \n",
       "mean    446.000000    0.383838    2.308642   29.699118    0.523008   \n",
       "std     257.353842    0.486592    0.836071   14.526497    1.102743   \n",
       "min       1.000000    0.000000    1.000000    0.420000    0.000000   \n",
       "25%     223.500000    0.000000    2.000000   20.125000    0.000000   \n",
       "50%     446.000000    0.000000    3.000000   28.000000    0.000000   \n",
       "75%     668.500000    1.000000    3.000000   38.000000    1.000000   \n",
       "max     891.000000    1.000000    3.000000   80.000000    8.000000   \n",
       "\n",
       "            Parch        Fare  \n",
       "count  891.000000  891.000000  \n",
       "mean     0.381594   32.204208  \n",
       "std      0.806057   49.693429  \n",
       "min      0.000000    0.000000  \n",
       "25%      0.000000    7.910400  \n",
       "50%      0.000000   14.454200  \n",
       "75%      0.000000   31.000000  \n",
       "max      6.000000  512.329200  "
      ]
     },
     "execution_count": 23,
     "metadata": {},
     "output_type": "execute_result"
    }
   ],
   "source": [
    "titanic_df.describe()"
   ]
  },
  {
   "cell_type": "code",
   "execution_count": 36,
   "metadata": {},
   "outputs": [
    {
     "data": {
      "text/plain": [
       "array([3, 1, 2], dtype=int64)"
      ]
     },
     "execution_count": 36,
     "metadata": {},
     "output_type": "execute_result"
    }
   ],
   "source": [
    "titanic_df.Pclass.unique()"
   ]
  },
  {
   "cell_type": "code",
   "execution_count": 24,
   "metadata": {},
   "outputs": [],
   "source": [
    "mean=titanic_df['Age'].mean()"
   ]
  },
  {
   "cell_type": "code",
   "execution_count": 25,
   "metadata": {},
   "outputs": [],
   "source": [
    "titanic_df['Age']=titanic_df['Age'].fillna(mean)"
   ]
  },
  {
   "cell_type": "code",
   "execution_count": 26,
   "metadata": {},
   "outputs": [
    {
     "data": {
      "text/plain": [
       "PassengerId      0\n",
       "Survived         0\n",
       "Pclass           0\n",
       "Name             0\n",
       "Sex              0\n",
       "Age              0\n",
       "SibSp            0\n",
       "Parch            0\n",
       "Ticket           0\n",
       "Fare             0\n",
       "Cabin          687\n",
       "Embarked         2\n",
       "dtype: int64"
      ]
     },
     "execution_count": 26,
     "metadata": {},
     "output_type": "execute_result"
    }
   ],
   "source": [
    "titanic_df.isnull().sum()"
   ]
  },
  {
   "cell_type": "code",
   "execution_count": 27,
   "metadata": {},
   "outputs": [],
   "source": [
    "titanic_df.drop(['Name','SibSp','Parch','Ticket','Fare','Cabin','Embarked'],axis=1,inplace=True)"
   ]
  },
  {
   "cell_type": "code",
   "execution_count": 28,
   "metadata": {},
   "outputs": [
    {
     "data": {
      "text/html": [
       "<div>\n",
       "<style scoped>\n",
       "    .dataframe tbody tr th:only-of-type {\n",
       "        vertical-align: middle;\n",
       "    }\n",
       "\n",
       "    .dataframe tbody tr th {\n",
       "        vertical-align: top;\n",
       "    }\n",
       "\n",
       "    .dataframe thead th {\n",
       "        text-align: right;\n",
       "    }\n",
       "</style>\n",
       "<table border=\"1\" class=\"dataframe\">\n",
       "  <thead>\n",
       "    <tr style=\"text-align: right;\">\n",
       "      <th></th>\n",
       "      <th>PassengerId</th>\n",
       "      <th>Survived</th>\n",
       "      <th>Pclass</th>\n",
       "      <th>Sex</th>\n",
       "      <th>Age</th>\n",
       "    </tr>\n",
       "  </thead>\n",
       "  <tbody>\n",
       "    <tr>\n",
       "      <th>0</th>\n",
       "      <td>1</td>\n",
       "      <td>0</td>\n",
       "      <td>3</td>\n",
       "      <td>male</td>\n",
       "      <td>22.0</td>\n",
       "    </tr>\n",
       "    <tr>\n",
       "      <th>1</th>\n",
       "      <td>2</td>\n",
       "      <td>1</td>\n",
       "      <td>1</td>\n",
       "      <td>female</td>\n",
       "      <td>38.0</td>\n",
       "    </tr>\n",
       "    <tr>\n",
       "      <th>2</th>\n",
       "      <td>3</td>\n",
       "      <td>1</td>\n",
       "      <td>3</td>\n",
       "      <td>female</td>\n",
       "      <td>26.0</td>\n",
       "    </tr>\n",
       "    <tr>\n",
       "      <th>3</th>\n",
       "      <td>4</td>\n",
       "      <td>1</td>\n",
       "      <td>1</td>\n",
       "      <td>female</td>\n",
       "      <td>35.0</td>\n",
       "    </tr>\n",
       "    <tr>\n",
       "      <th>4</th>\n",
       "      <td>5</td>\n",
       "      <td>0</td>\n",
       "      <td>3</td>\n",
       "      <td>male</td>\n",
       "      <td>35.0</td>\n",
       "    </tr>\n",
       "  </tbody>\n",
       "</table>\n",
       "</div>"
      ],
      "text/plain": [
       "   PassengerId  Survived  Pclass     Sex   Age\n",
       "0            1         0       3    male  22.0\n",
       "1            2         1       1  female  38.0\n",
       "2            3         1       3  female  26.0\n",
       "3            4         1       1  female  35.0\n",
       "4            5         0       3    male  35.0"
      ]
     },
     "execution_count": 28,
     "metadata": {},
     "output_type": "execute_result"
    }
   ],
   "source": [
    "titanic_df.head()"
   ]
  },
  {
   "cell_type": "code",
   "execution_count": 29,
   "metadata": {},
   "outputs": [],
   "source": [
    "from sklearn.preprocessing import LabelEncoder"
   ]
  },
  {
   "cell_type": "code",
   "execution_count": 31,
   "metadata": {},
   "outputs": [
    {
     "data": {
      "text/plain": [
       "array(['female', 'male'], dtype=object)"
      ]
     },
     "execution_count": 31,
     "metadata": {},
     "output_type": "execute_result"
    }
   ],
   "source": [
    "lb=LabelEncoder()\n",
    "lb.fit(titanic_df['Sex'])\n",
    "lb.classes_"
   ]
  },
  {
   "cell_type": "code",
   "execution_count": 33,
   "metadata": {},
   "outputs": [],
   "source": [
    "titanic_df['Sex']=lb.fit_transform(titanic_df['Sex'])"
   ]
  },
  {
   "cell_type": "code",
   "execution_count": 34,
   "metadata": {},
   "outputs": [
    {
     "data": {
      "text/plain": [
       "0    1\n",
       "1    0\n",
       "2    0\n",
       "3    0\n",
       "4    1\n",
       "Name: Sex, dtype: int32"
      ]
     },
     "execution_count": 34,
     "metadata": {},
     "output_type": "execute_result"
    }
   ],
   "source": [
    "titanic_df['Sex'].head()"
   ]
  },
  {
   "cell_type": "code",
   "execution_count": 38,
   "metadata": {},
   "outputs": [
    {
     "data": {
      "text/plain": [
       "<matplotlib.axes._subplots.AxesSubplot at 0x29fc2b7ca88>"
      ]
     },
     "execution_count": 38,
     "metadata": {},
     "output_type": "execute_result"
    },
    {
     "data": {
      "image/png": "[encoded data removed]",
      "text/plain": [
       "<Figure size 432x288 with 1 Axes>"
      ]
     },
     "metadata": {
      "needs_background": "light"
     },
     "output_type": "display_data"
    }
   ],
   "source": [
    "sns.countplot(x='Sex',data=titanic_df)"
   ]
  },
  {
   "cell_type": "code",
   "execution_count": 40,
   "metadata": {},
   "outputs": [
    {
     "data": {
      "text/plain": [
       "<matplotlib.axes._subplots.AxesSubplot at 0x29fc2d33548>"
      ]
     },
     "execution_count": 40,
     "metadata": {},
     "output_type": "execute_result"
    },
    {
     "data": {
      "image/png": "[encoded data removed]",
      "text/plain": [
       "<Figure size 432x288 with 1 Axes>"
      ]
     },
     "metadata": {
      "needs_background": "light"
     },
     "output_type": "display_data"
    }
   ],
   "source": [
    "sns.countplot(x='Survived', hue ='Sex', data=)"
   ]
  },
  {
   "cell_type": "code",
   "execution_count": 47,
   "metadata": {},
   "outputs": [
    {
     "data": {
      "text/plain": [
       "<matplotlib.axes._subplots.AxesSubplot at 0x29fc2ddbe88>"
      ]
     },
     "execution_count": 47,
     "metadata": {},
     "output_type": "execute_result"
    },
    {
     "data": {
      "image/png": "[encoded data removed]",
      "text/plain": [
       "<Figure size 432x288 with 1 Axes>"
      ]
     },
     "metadata": {
      "needs_background": "light"
     },
     "output_type": "display_data"
    }
   ],
   "source": [
    "sns.barplot(titanic_df['Pclass'],titanic_df['Sex'],titanic_df['Survived'])"
   ]
  },
  {
   "cell_type": "code",
   "execution_count": 48,
   "metadata": {},
   "outputs": [
    {
     "data": {
      "text/plain": [
       "<seaborn.axisgrid.PairGrid at 0x29fc3000ec8>"
      ]
     },
     "execution_count": 48,
     "metadata": {},
     "output_type": "execute_result"
    },
    {
     "data": {
      "image/png": "[encoded data removed]",
      "text/plain": [
       "<Figure size 900x900 with 30 Axes>"
      ]
     },
     "metadata": {
      "needs_background": "light"
     },
     "output_type": "display_data"
    }
   ],
   "source": [
    "sns.pairplot(titanic_df)"
   ]
  },
  {
   "cell_type": "code",
   "execution_count": 55,
   "metadata": {},
   "outputs": [
    {
     "data": {
      "image/png": "[encoded data removed]",
      "text/plain": [
       "<Figure size 1080x5040 with 4 Axes>"
      ]
     },
     "metadata": {
      "needs_background": "light"
     },
     "output_type": "display_data"
    }
   ],
   "source": [
    "collist=titanic_df.columns.values\n",
    "ncol=5\n",
    "nrows=15\n",
    "plt.figure(figsize=(15,70))\n",
    "for i in range (1,len(collist)):\n",
    "    plt.subplot(nrows,ncol,i+1)\n",
    "    sns.boxplot(titanic_df[collist[i]],color='orange',orient='v')"
   ]
  },
  {
   "cell_type": "code",
   "execution_count": 56,
   "metadata": {},
   "outputs": [
    {
     "data": {
      "text/plain": [
       "array([[1.73010796, 0.78927234, 0.82737724, 0.73769513, 0.5924806 ],\n",
       "       [1.72622007, 1.2669898 , 1.56610693, 1.35557354, 0.63878901],\n",
       "       [1.72233219, 1.2669898 , 0.82737724, 1.35557354, 0.2846632 ],\n",
       "       ...,\n",
       "       [1.72233219, 0.78927234, 0.82737724, 1.35557354, 0.        ],\n",
       "       [1.72622007, 1.2669898 , 1.56610693, 0.73769513, 0.2846632 ],\n",
       "       [1.73010796, 0.78927234, 0.82737724, 0.73769513, 0.17706291]])"
      ]
     },
     "execution_count": 56,
     "metadata": {},
     "output_type": "execute_result"
    }
   ],
   "source": [
    "from scipy.stats import zscore\n",
    "z=np.abs(zscore(titanic_df))\n",
    "z"
   ]
  },
  {
   "cell_type": "code",
   "execution_count": 57,
   "metadata": {},
   "outputs": [],
   "source": [
    "threshold=3"
   ]
  },
  {
   "cell_type": "code",
   "execution_count": 58,
   "metadata": {},
   "outputs": [
    {
     "name": "stdout",
     "output_type": "stream",
     "text": [
      "(array([ 96, 116, 493, 630, 672, 745, 851], dtype=int64), array([4, 4, 4, 4, 4, 4, 4], dtype=int64))\n"
     ]
    }
   ],
   "source": [
    "print(np.where(z>3))"
   ]
  },
  {
   "cell_type": "code",
   "execution_count": 59,
   "metadata": {},
   "outputs": [
    {
     "data": {
      "text/plain": [
       "3.1782825864736868"
      ]
     },
     "execution_count": 59,
     "metadata": {},
     "output_type": "execute_result"
    }
   ],
   "source": [
    "z[96][4]"
   ]
  },
  {
   "cell_type": "code",
   "execution_count": 60,
   "metadata": {},
   "outputs": [],
   "source": [
    "titanic_new=titanic_df[(z<3).all(axis=1)]"
   ]
  },
  {
   "cell_type": "code",
   "execution_count": 61,
   "metadata": {},
   "outputs": [
    {
     "data": {
      "text/plain": [
       "(884, 5)"
      ]
     },
     "execution_count": 61,
     "metadata": {},
     "output_type": "execute_result"
    }
   ],
   "source": [
    "titanic_new.shape"
   ]
  },
  {
   "cell_type": "code",
   "execution_count": 62,
   "metadata": {},
   "outputs": [
    {
     "data": {
      "text/plain": [
       "(891, 5)"
      ]
     },
     "execution_count": 62,
     "metadata": {},
     "output_type": "execute_result"
    }
   ],
   "source": [
    "titanic_df.shape"
   ]
  },
  {
   "cell_type": "code",
   "execution_count": 66,
   "metadata": {},
   "outputs": [],
   "source": [
    "titanic_df=titanic_new"
   ]
  },
  {
   "cell_type": "code",
   "execution_count": 67,
   "metadata": {},
   "outputs": [
    {
     "data": {
      "text/plain": [
       "0      0\n",
       "1      1\n",
       "2      1\n",
       "3      1\n",
       "4      0\n",
       "      ..\n",
       "886    0\n",
       "887    1\n",
       "888    0\n",
       "889    1\n",
       "890    0\n",
       "Name: Survived, Length: 884, dtype: int64"
      ]
     },
     "execution_count": 67,
     "metadata": {},
     "output_type": "execute_result"
    }
   ],
   "source": [
    "titanic_df['Survived']"
   ]
  },
  {
   "cell_type": "code",
   "execution_count": 69,
   "metadata": {},
   "outputs": [],
   "source": [
    "y=titanic_df['Survived']"
   ]
  },
  {
   "cell_type": "code",
   "execution_count": 70,
   "metadata": {},
   "outputs": [],
   "source": [
    "titanic_df.drop('Survived',axis=1,inplace=True)"
   ]
  },
  {
   "cell_type": "code",
   "execution_count": 71,
   "metadata": {},
   "outputs": [],
   "source": [
    "x=titanic_df.iloc[:,:]"
   ]
  },
  {
   "cell_type": "code",
   "execution_count": 72,
   "metadata": {},
   "outputs": [
    {
     "data": {
      "text/html": [
       "<div>\n",
       "<style scoped>\n",
       "    .dataframe tbody tr th:only-of-type {\n",
       "        vertical-align: middle;\n",
       "    }\n",
       "\n",
       "    .dataframe tbody tr th {\n",
       "        vertical-align: top;\n",
       "    }\n",
       "\n",
       "    .dataframe thead th {\n",
       "        text-align: right;\n",
       "    }\n",
       "</style>\n",
       "<table border=\"1\" class=\"dataframe\">\n",
       "  <thead>\n",
       "    <tr style=\"text-align: right;\">\n",
       "      <th></th>\n",
       "      <th>PassengerId</th>\n",
       "      <th>Pclass</th>\n",
       "      <th>Sex</th>\n",
       "      <th>Age</th>\n",
       "    </tr>\n",
       "  </thead>\n",
       "  <tbody>\n",
       "    <tr>\n",
       "      <th>0</th>\n",
       "      <td>1</td>\n",
       "      <td>3</td>\n",
       "      <td>1</td>\n",
       "      <td>22.0</td>\n",
       "    </tr>\n",
       "    <tr>\n",
       "      <th>1</th>\n",
       "      <td>2</td>\n",
       "      <td>1</td>\n",
       "      <td>0</td>\n",
       "      <td>38.0</td>\n",
       "    </tr>\n",
       "    <tr>\n",
       "      <th>2</th>\n",
       "      <td>3</td>\n",
       "      <td>3</td>\n",
       "      <td>0</td>\n",
       "      <td>26.0</td>\n",
       "    </tr>\n",
       "    <tr>\n",
       "      <th>3</th>\n",
       "      <td>4</td>\n",
       "      <td>1</td>\n",
       "      <td>0</td>\n",
       "      <td>35.0</td>\n",
       "    </tr>\n",
       "    <tr>\n",
       "      <th>4</th>\n",
       "      <td>5</td>\n",
       "      <td>3</td>\n",
       "      <td>1</td>\n",
       "      <td>35.0</td>\n",
       "    </tr>\n",
       "  </tbody>\n",
       "</table>\n",
       "</div>"
      ],
      "text/plain": [
       "   PassengerId  Pclass  Sex   Age\n",
       "0            1       3    1  22.0\n",
       "1            2       1    0  38.0\n",
       "2            3       3    0  26.0\n",
       "3            4       1    0  35.0\n",
       "4            5       3    1  35.0"
      ]
     },
     "execution_count": 72,
     "metadata": {},
     "output_type": "execute_result"
    }
   ],
   "source": [
    "x.head()"
   ]
  },
  {
   "cell_type": "code",
   "execution_count": 77,
   "metadata": {},
   "outputs": [],
   "source": [
    "import sklearn\n",
    "from sklearn.model_selection import train_test_split\n",
    "from sklearn.linear_model import LogisticRegression\n",
    "from sklearn.naive_bayes import GaussianNB\n",
    "from sklearn.svm import SVC\n",
    "from sklearn.tree import DecisionTreeClassifier\n",
    "from sklearn.neighbors import KNeighborsClassifier\n",
    "from sklearn.metrics import accuracy_score,confusion_matrix,classification_report\n",
    "import warnings\n",
    "warnings.filterwarnings('ignore')\n",
    "\n"
   ]
  },
  {
   "cell_type": "code",
   "execution_count": 78,
   "metadata": {},
   "outputs": [
    {
     "name": "stdout",
     "output_type": "stream",
     "text": [
      "Accuracy SCORE is equal to : 0.78 at random state 42\n",
      "Accuracy SCORE is equal to : 0.79 at random state 43\n",
      "Accuracy SCORE is equal to : 0.77 at random state 44\n",
      "Accuracy SCORE is equal to : 0.78 at random state 45\n",
      "Accuracy SCORE is equal to : 0.74 at random state 46\n",
      "Accuracy SCORE is equal to : 0.79 at random state 47\n",
      "Accuracy SCORE is equal to : 0.81 at random state 48\n",
      "Accuracy SCORE is equal to : 0.78 at random state 49\n",
      "Accuracy SCORE is equal to : 0.82 at random state 50\n",
      "Accuracy SCORE is equal to : 0.77 at random state 51\n",
      "Accuracy SCORE is equal to : 0.82 at random state 52\n",
      "Accuracy SCORE is equal to : 0.73 at random state 53\n",
      "Accuracy SCORE is equal to : 0.82 at random state 54\n",
      "Accuracy SCORE is equal to : 0.81 at random state 55\n",
      "Accuracy SCORE is equal to : 0.79 at random state 56\n",
      "Accuracy SCORE is equal to : 0.8 at random state 57\n",
      "Accuracy SCORE is equal to : 0.84 at random state 58\n",
      "Accuracy SCORE is equal to : 0.84 at random state 59\n",
      "Accuracy SCORE is equal to : 0.84 at random state 60\n",
      "Accuracy SCORE is equal to : 0.82 at random state 61\n",
      "Accuracy SCORE is equal to : 0.82 at random state 62\n",
      "Accuracy SCORE is equal to : 0.72 at random state 63\n",
      "Accuracy SCORE is equal to : 0.79 at random state 64\n",
      "Accuracy SCORE is equal to : 0.78 at random state 65\n",
      "Accuracy SCORE is equal to : 0.82 at random state 66\n",
      "Accuracy SCORE is equal to : 0.82 at random state 67\n",
      "Accuracy SCORE is equal to : 0.82 at random state 68\n",
      "Accuracy SCORE is equal to : 0.83 at random state 69\n",
      "Accuracy SCORE is equal to : 0.81 at random state 70\n",
      "Accuracy SCORE is equal to : 0.77 at random state 71\n",
      "Accuracy SCORE is equal to : 0.76 at random state 72\n",
      "Accuracy SCORE is equal to : 0.78 at random state 73\n",
      "Accuracy SCORE is equal to : 0.82 at random state 74\n",
      "Accuracy SCORE is equal to : 0.79 at random state 75\n",
      "Accuracy SCORE is equal to : 0.77 at random state 76\n",
      "Accuracy SCORE is equal to : 0.77 at random state 77\n",
      "Accuracy SCORE is equal to : 0.83 at random state 78\n",
      "Accuracy SCORE is equal to : 0.75 at random state 79\n",
      "Accuracy SCORE is equal to : 0.79 at random state 80\n",
      "Accuracy SCORE is equal to : 0.81 at random state 81\n",
      "Accuracy SCORE is equal to : 0.79 at random state 82\n",
      "Accuracy SCORE is equal to : 0.72 at random state 83\n",
      "Accuracy SCORE is equal to : 0.82 at random state 84\n",
      "Accuracy SCORE is equal to : 0.83 at random state 85\n",
      "Accuracy SCORE is equal to : 0.85 at random state 86\n",
      "Accuracy SCORE is equal to : 0.83 at random state 87\n",
      "Accuracy SCORE is equal to : 0.75 at random state 88\n",
      "Accuracy SCORE is equal to : 0.82 at random state 89\n",
      "Accuracy SCORE is equal to : 0.87 at random state 90\n",
      "Accuracy SCORE is equal to : 0.84 at random state 91\n",
      "Accuracy SCORE is equal to : 0.78 at random state 92\n",
      "Accuracy SCORE is equal to : 0.77 at random state 93\n",
      "Accuracy SCORE is equal to : 0.82 at random state 94\n",
      "Accuracy SCORE is equal to : 0.83 at random state 95\n",
      "Accuracy SCORE is equal to : 0.83 at random state 96\n",
      "Accuracy SCORE is equal to : 0.78 at random state 97\n",
      "Accuracy SCORE is equal to : 0.81 at random state 98\n",
      "Accuracy SCORE is equal to : 0.8 at random state 99\n",
      "Accuracy SCORE is equal to : 0.75 at random state 100\n",
      "The maximum Accuracy_score is  0.87 at random state 90\n"
     ]
    }
   ],
   "source": [
    "max_score=0\n",
    "final_rstate=0\n",
    "\n",
    "for i in range(42,101):\n",
    "    x_train,x_test,y_train,y_test=train_test_split(x,y,test_size=100,random_state=i)\n",
    "    lg=LogisticRegression()\n",
    "    lg.fit(x_train,y_train)\n",
    "    t=lg.score(x_train,y_train)\n",
    "    pred=lg.predict(x_test)\n",
    "    acc_score=accuracy_score(y_test,pred)\n",
    "    print(\"Accuracy SCORE is equal to :\",acc_score,\"at random state\",i)\n",
    "    if acc_score > max_score:\n",
    "        max_score=acc_score\n",
    "        final_rstate=i\n",
    "        \n",
    "        \n",
    "    \n",
    "    \n",
    "print(\"The maximum Accuracy_score is \",max_score, \"at random state\",final_rstate) "
   ]
  },
  {
   "cell_type": "code",
   "execution_count": 76,
   "metadata": {},
   "outputs": [
    {
     "name": "stdout",
     "output_type": "stream",
     "text": [
      "Accuracy SCORE is equal to : 0.76 at random state 42\n",
      "Accuracy SCORE is equal to : 0.75 at random state 43\n",
      "Accuracy SCORE is equal to : 0.76 at random state 44\n",
      "Accuracy SCORE is equal to : 0.76 at random state 45\n",
      "Accuracy SCORE is equal to : 0.73 at random state 46\n",
      "Accuracy SCORE is equal to : 0.78 at random state 47\n",
      "Accuracy SCORE is equal to : 0.83 at random state 48\n",
      "Accuracy SCORE is equal to : 0.73 at random state 49\n",
      "Accuracy SCORE is equal to : 0.84 at random state 50\n",
      "Accuracy SCORE is equal to : 0.75 at random state 51\n",
      "Accuracy SCORE is equal to : 0.78 at random state 52\n",
      "Accuracy SCORE is equal to : 0.73 at random state 53\n",
      "Accuracy SCORE is equal to : 0.81 at random state 54\n",
      "Accuracy SCORE is equal to : 0.81 at random state 55\n",
      "Accuracy SCORE is equal to : 0.76 at random state 56\n",
      "Accuracy SCORE is equal to : 0.84 at random state 57\n",
      "Accuracy SCORE is equal to : 0.81 at random state 58\n",
      "Accuracy SCORE is equal to : 0.86 at random state 59\n",
      "Accuracy SCORE is equal to : 0.82 at random state 60\n",
      "Accuracy SCORE is equal to : 0.85 at random state 61\n",
      "Accuracy SCORE is equal to : 0.8 at random state 62\n",
      "Accuracy SCORE is equal to : 0.76 at random state 63\n",
      "Accuracy SCORE is equal to : 0.75 at random state 64\n",
      "Accuracy SCORE is equal to : 0.75 at random state 65\n",
      "Accuracy SCORE is equal to : 0.8 at random state 66\n",
      "Accuracy SCORE is equal to : 0.82 at random state 67\n",
      "Accuracy SCORE is equal to : 0.82 at random state 68\n",
      "Accuracy SCORE is equal to : 0.84 at random state 69\n",
      "Accuracy SCORE is equal to : 0.77 at random state 70\n",
      "Accuracy SCORE is equal to : 0.72 at random state 71\n",
      "Accuracy SCORE is equal to : 0.78 at random state 72\n",
      "Accuracy SCORE is equal to : 0.77 at random state 73\n",
      "Accuracy SCORE is equal to : 0.77 at random state 74\n",
      "Accuracy SCORE is equal to : 0.8 at random state 75\n",
      "Accuracy SCORE is equal to : 0.76 at random state 76\n",
      "Accuracy SCORE is equal to : 0.76 at random state 77\n",
      "Accuracy SCORE is equal to : 0.79 at random state 78\n",
      "Accuracy SCORE is equal to : 0.73 at random state 79\n",
      "Accuracy SCORE is equal to : 0.79 at random state 80\n",
      "Accuracy SCORE is equal to : 0.8 at random state 81\n",
      "Accuracy SCORE is equal to : 0.77 at random state 82\n",
      "Accuracy SCORE is equal to : 0.7 at random state 83\n",
      "Accuracy SCORE is equal to : 0.77 at random state 84\n",
      "Accuracy SCORE is equal to : 0.8 at random state 85\n",
      "Accuracy SCORE is equal to : 0.82 at random state 86\n",
      "Accuracy SCORE is equal to : 0.83 at random state 87\n",
      "Accuracy SCORE is equal to : 0.74 at random state 88\n",
      "Accuracy SCORE is equal to : 0.75 at random state 89\n",
      "Accuracy SCORE is equal to : 0.86 at random state 90\n",
      "Accuracy SCORE is equal to : 0.82 at random state 91\n",
      "Accuracy SCORE is equal to : 0.76 at random state 92\n",
      "Accuracy SCORE is equal to : 0.8 at random state 93\n",
      "Accuracy SCORE is equal to : 0.79 at random state 94\n",
      "Accuracy SCORE is equal to : 0.8 at random state 95\n",
      "Accuracy SCORE is equal to : 0.78 at random state 96\n",
      "Accuracy SCORE is equal to : 0.78 at random state 97\n",
      "Accuracy SCORE is equal to : 0.84 at random state 98\n",
      "Accuracy SCORE is equal to : 0.77 at random state 99\n",
      "Accuracy SCORE is equal to : 0.77 at random state 100\n",
      "The maximum Accuracy_score is  0.86 at random state 59\n"
     ]
    }
   ],
   "source": [
    "max_score=0\n",
    "final_rstate=0\n",
    "\n",
    "for i in range(42,101):\n",
    "    x_train,x_test,y_train,y_test=train_test_split(x,y,test_size=100,random_state=i)\n",
    "    gnb=GaussianNB()\n",
    "    gnb.fit(x_train,y_train)\n",
    "    t=gnb.score(x_train,y_train)\n",
    "    pred=gnb.predict(x_test)\n",
    "    acc_score=accuracy_score(y_test,pred)\n",
    "    print(\"Accuracy SCORE is equal to :\",acc_score,\"at random state\",i)\n",
    "    if acc_score > max_score:\n",
    "        max_score=acc_score\n",
    "        final_rstate=i\n",
    "        \n",
    "        \n",
    "    \n",
    "    \n",
    "print(\"The maximum Accuracy_score is \",max_score, \"at random state\",final_rstate) "
   ]
  },
  {
   "cell_type": "code",
   "execution_count": 79,
   "metadata": {},
   "outputs": [
    {
     "name": "stdout",
     "output_type": "stream",
     "text": [
      "Accuracy SCORE is equal to : 0.73 at random state 42\n",
      "Accuracy SCORE is equal to : 0.73 at random state 43\n",
      "Accuracy SCORE is equal to : 0.71 at random state 44\n",
      "Accuracy SCORE is equal to : 0.75 at random state 45\n",
      "Accuracy SCORE is equal to : 0.71 at random state 46\n",
      "Accuracy SCORE is equal to : 0.75 at random state 47\n",
      "Accuracy SCORE is equal to : 0.74 at random state 48\n",
      "Accuracy SCORE is equal to : 0.68 at random state 49\n",
      "Accuracy SCORE is equal to : 0.77 at random state 50\n",
      "Accuracy SCORE is equal to : 0.71 at random state 51\n",
      "Accuracy SCORE is equal to : 0.75 at random state 52\n",
      "Accuracy SCORE is equal to : 0.66 at random state 53\n",
      "Accuracy SCORE is equal to : 0.76 at random state 54\n",
      "Accuracy SCORE is equal to : 0.79 at random state 55\n",
      "Accuracy SCORE is equal to : 0.74 at random state 56\n",
      "Accuracy SCORE is equal to : 0.7 at random state 57\n",
      "Accuracy SCORE is equal to : 0.77 at random state 58\n",
      "Accuracy SCORE is equal to : 0.75 at random state 59\n",
      "Accuracy SCORE is equal to : 0.7 at random state 60\n",
      "Accuracy SCORE is equal to : 0.76 at random state 61\n",
      "Accuracy SCORE is equal to : 0.73 at random state 62\n",
      "Accuracy SCORE is equal to : 0.65 at random state 63\n",
      "Accuracy SCORE is equal to : 0.8 at random state 64\n",
      "Accuracy SCORE is equal to : 0.66 at random state 65\n",
      "Accuracy SCORE is equal to : 0.77 at random state 66\n",
      "Accuracy SCORE is equal to : 0.8 at random state 67\n",
      "Accuracy SCORE is equal to : 0.76 at random state 68\n",
      "Accuracy SCORE is equal to : 0.8 at random state 69\n",
      "Accuracy SCORE is equal to : 0.72 at random state 70\n",
      "Accuracy SCORE is equal to : 0.6 at random state 71\n",
      "Accuracy SCORE is equal to : 0.76 at random state 72\n",
      "Accuracy SCORE is equal to : 0.74 at random state 73\n",
      "Accuracy SCORE is equal to : 0.67 at random state 74\n",
      "Accuracy SCORE is equal to : 0.81 at random state 75\n",
      "Accuracy SCORE is equal to : 0.73 at random state 76\n",
      "Accuracy SCORE is equal to : 0.76 at random state 77\n",
      "Accuracy SCORE is equal to : 0.71 at random state 78\n",
      "Accuracy SCORE is equal to : 0.76 at random state 79\n",
      "Accuracy SCORE is equal to : 0.72 at random state 80\n",
      "Accuracy SCORE is equal to : 0.71 at random state 81\n",
      "Accuracy SCORE is equal to : 0.74 at random state 82\n",
      "Accuracy SCORE is equal to : 0.69 at random state 83\n",
      "Accuracy SCORE is equal to : 0.76 at random state 84\n",
      "Accuracy SCORE is equal to : 0.72 at random state 85\n",
      "Accuracy SCORE is equal to : 0.74 at random state 86\n",
      "Accuracy SCORE is equal to : 0.79 at random state 87\n",
      "Accuracy SCORE is equal to : 0.74 at random state 88\n",
      "Accuracy SCORE is equal to : 0.69 at random state 89\n",
      "Accuracy SCORE is equal to : 0.83 at random state 90\n",
      "Accuracy SCORE is equal to : 0.75 at random state 91\n",
      "Accuracy SCORE is equal to : 0.76 at random state 92\n",
      "Accuracy SCORE is equal to : 0.8 at random state 93\n",
      "Accuracy SCORE is equal to : 0.66 at random state 94\n",
      "Accuracy SCORE is equal to : 0.73 at random state 95\n",
      "Accuracy SCORE is equal to : 0.76 at random state 96\n",
      "Accuracy SCORE is equal to : 0.72 at random state 97\n",
      "Accuracy SCORE is equal to : 0.73 at random state 98\n",
      "Accuracy SCORE is equal to : 0.72 at random state 99\n",
      "Accuracy SCORE is equal to : 0.67 at random state 100\n",
      "The maximum Accuracy_score is  0.83 at random state 90\n"
     ]
    }
   ],
   "source": [
    "max_score=0\n",
    "final_rstate=0\n",
    "\n",
    "for i in range(42,101):\n",
    "    x_train,x_test,y_train,y_test=train_test_split(x,y,test_size=100,random_state=i)\n",
    "    dtc=DecisionTreeClassifier()\n",
    "    dtc.fit(x_train,y_train)\n",
    "    dtc.score(x_train,y_train)\n",
    "    preddtc=dtc.predict(x_test)\n",
    "    acc_score=accuracy_score(y_test,preddtc)\n",
    "    print(\"Accuracy SCORE is equal to :\",acc_score,\"at random state\",i)\n",
    "    if acc_score > max_score:\n",
    "        max_score=acc_score\n",
    "        final_rstate=i\n",
    "        \n",
    "        \n",
    "    \n",
    "    \n",
    "print(\"The maximum Accuracy_score is \",max_score, \"at random state\",final_rstate) "
   ]
  },
  {
   "cell_type": "code",
   "execution_count": 80,
   "metadata": {},
   "outputs": [
    {
     "name": "stdout",
     "output_type": "stream",
     "text": [
      "Accuracy SCORE is equal to : 0.98 at random state 42\n",
      "Accuracy SCORE is equal to : 0.94 at random state 43\n",
      "Accuracy SCORE is equal to : 0.93 at random state 44\n",
      "Accuracy SCORE is equal to : 0.97 at random state 45\n",
      "Accuracy SCORE is equal to : 0.99 at random state 46\n",
      "Accuracy SCORE is equal to : 0.98 at random state 47\n",
      "Accuracy SCORE is equal to : 0.96 at random state 48\n",
      "Accuracy SCORE is equal to : 0.96 at random state 49\n",
      "Accuracy SCORE is equal to : 0.97 at random state 50\n",
      "Accuracy SCORE is equal to : 0.97 at random state 51\n",
      "Accuracy SCORE is equal to : 0.99 at random state 52\n",
      "Accuracy SCORE is equal to : 0.95 at random state 53\n",
      "Accuracy SCORE is equal to : 0.96 at random state 54\n",
      "Accuracy SCORE is equal to : 0.97 at random state 55\n",
      "Accuracy SCORE is equal to : 0.96 at random state 56\n",
      "Accuracy SCORE is equal to : 0.94 at random state 57\n",
      "Accuracy SCORE is equal to : 0.98 at random state 58\n",
      "Accuracy SCORE is equal to : 0.96 at random state 59\n",
      "Accuracy SCORE is equal to : 0.98 at random state 60\n",
      "Accuracy SCORE is equal to : 0.93 at random state 61\n",
      "Accuracy SCORE is equal to : 1.0 at random state 62\n",
      "Accuracy SCORE is equal to : 0.94 at random state 63\n",
      "Accuracy SCORE is equal to : 0.95 at random state 64\n",
      "Accuracy SCORE is equal to : 0.93 at random state 65\n",
      "Accuracy SCORE is equal to : 0.97 at random state 66\n",
      "Accuracy SCORE is equal to : 0.96 at random state 67\n",
      "Accuracy SCORE is equal to : 0.96 at random state 68\n",
      "Accuracy SCORE is equal to : 0.98 at random state 69\n",
      "Accuracy SCORE is equal to : 0.97 at random state 70\n",
      "Accuracy SCORE is equal to : 0.98 at random state 71\n",
      "Accuracy SCORE is equal to : 0.96 at random state 72\n",
      "Accuracy SCORE is equal to : 0.95 at random state 73\n",
      "Accuracy SCORE is equal to : 0.97 at random state 74\n",
      "Accuracy SCORE is equal to : 0.97 at random state 75\n",
      "Accuracy SCORE is equal to : 0.98 at random state 76\n",
      "Accuracy SCORE is equal to : 1.0 at random state 77\n",
      "Accuracy SCORE is equal to : 0.96 at random state 78\n",
      "Accuracy SCORE is equal to : 0.97 at random state 79\n",
      "Accuracy SCORE is equal to : 0.99 at random state 80\n",
      "Accuracy SCORE is equal to : 0.97 at random state 81\n",
      "Accuracy SCORE is equal to : 0.95 at random state 82\n",
      "Accuracy SCORE is equal to : 0.95 at random state 83\n",
      "Accuracy SCORE is equal to : 0.94 at random state 84\n",
      "Accuracy SCORE is equal to : 0.97 at random state 85\n",
      "Accuracy SCORE is equal to : 0.94 at random state 86\n",
      "Accuracy SCORE is equal to : 0.95 at random state 87\n",
      "Accuracy SCORE is equal to : 0.99 at random state 88\n",
      "Accuracy SCORE is equal to : 0.97 at random state 89\n",
      "Accuracy SCORE is equal to : 0.98 at random state 90\n",
      "Accuracy SCORE is equal to : 0.95 at random state 91\n",
      "Accuracy SCORE is equal to : 0.97 at random state 92\n",
      "Accuracy SCORE is equal to : 0.93 at random state 93\n",
      "Accuracy SCORE is equal to : 0.94 at random state 94\n",
      "Accuracy SCORE is equal to : 0.94 at random state 95\n",
      "Accuracy SCORE is equal to : 0.97 at random state 96\n",
      "Accuracy SCORE is equal to : 0.95 at random state 97\n",
      "Accuracy SCORE is equal to : 0.96 at random state 98\n",
      "Accuracy SCORE is equal to : 0.97 at random state 99\n",
      "Accuracy SCORE is equal to : 0.67 at random state 100\n",
      "The maximum Accuracy_score is  1.0 at random state 62\n"
     ]
    }
   ],
   "source": [
    "max_score=0\n",
    "final_rstate=0\n",
    "for i in range(42,101):\n",
    "    x_train,x_test,y_train,y_test=train_test_split(x,y,test_size=100,random_state=i)\n",
    "    knn=KNeighborsClassifier()\n",
    "    knn.fit(x_train,y_train)\n",
    "    knn.score(x_train,y_train)\n",
    "    predknn=dtc.predict(x_test)\n",
    "    acc_score=accuracy_score(y_test,predknn)\n",
    "    print(\"Accuracy SCORE is equal to :\",acc_score,\"at random state\",i)\n",
    "    \n",
    "    if acc_score > max_score:\n",
    "        max_score=acc_score\n",
    "        final_rstate=i\n",
    "    \n",
    "\n",
    "print(\"The maximum Accuracy_score is \",max_score, \"at random state\",final_rstate) "
   ]
  },
  {
   "cell_type": "code",
   "execution_count": 81,
   "metadata": {},
   "outputs": [
    {
     "name": "stdout",
     "output_type": "stream",
     "text": [
      "Accuracy SCORE is equal to : 0.59 at random state 42\n",
      "Accuracy SCORE is equal to : 0.595 at random state 43\n",
      "Accuracy SCORE is equal to : 0.61 at random state 44\n",
      "Accuracy SCORE is equal to : 0.64 at random state 45\n",
      "Accuracy SCORE is equal to : 0.615 at random state 46\n",
      "Accuracy SCORE is equal to : 0.615 at random state 47\n",
      "Accuracy SCORE is equal to : 0.6 at random state 48\n",
      "Accuracy SCORE is equal to : 0.595 at random state 49\n",
      "Accuracy SCORE is equal to : 0.59 at random state 50\n",
      "Accuracy SCORE is equal to : 0.65 at random state 51\n",
      "Accuracy SCORE is equal to : 0.625 at random state 52\n",
      "Accuracy SCORE is equal to : 0.6 at random state 53\n",
      "Accuracy SCORE is equal to : 0.64 at random state 54\n",
      "Accuracy SCORE is equal to : 0.615 at random state 55\n",
      "Accuracy SCORE is equal to : 0.64 at random state 56\n",
      "Accuracy SCORE is equal to : 0.625 at random state 57\n",
      "Accuracy SCORE is equal to : 0.61 at random state 58\n",
      "Accuracy SCORE is equal to : 0.66 at random state 59\n",
      "Accuracy SCORE is equal to : 0.58 at random state 60\n",
      "Accuracy SCORE is equal to : 0.64 at random state 61\n",
      "Accuracy SCORE is equal to : 0.635 at random state 62\n",
      "Accuracy SCORE is equal to : 0.575 at random state 63\n",
      "Accuracy SCORE is equal to : 0.635 at random state 64\n",
      "Accuracy SCORE is equal to : 0.615 at random state 65\n",
      "Accuracy SCORE is equal to : 0.57 at random state 66\n",
      "Accuracy SCORE is equal to : 0.69 at random state 67\n",
      "Accuracy SCORE is equal to : 0.555 at random state 68\n",
      "Accuracy SCORE is equal to : 0.605 at random state 69\n",
      "Accuracy SCORE is equal to : 0.63 at random state 70\n",
      "Accuracy SCORE is equal to : 0.625 at random state 71\n",
      "Accuracy SCORE is equal to : 0.615 at random state 72\n",
      "Accuracy SCORE is equal to : 0.625 at random state 73\n",
      "Accuracy SCORE is equal to : 0.625 at random state 74\n",
      "Accuracy SCORE is equal to : 0.655 at random state 75\n",
      "Accuracy SCORE is equal to : 0.685 at random state 76\n",
      "Accuracy SCORE is equal to : 0.63 at random state 77\n",
      "Accuracy SCORE is equal to : 0.62 at random state 78\n",
      "Accuracy SCORE is equal to : 0.61 at random state 79\n",
      "Accuracy SCORE is equal to : 0.565 at random state 80\n",
      "Accuracy SCORE is equal to : 0.57 at random state 81\n",
      "Accuracy SCORE is equal to : 0.64 at random state 82\n",
      "Accuracy SCORE is equal to : 0.61 at random state 83\n",
      "Accuracy SCORE is equal to : 0.62 at random state 84\n",
      "Accuracy SCORE is equal to : 0.63 at random state 85\n",
      "Accuracy SCORE is equal to : 0.57 at random state 86\n",
      "Accuracy SCORE is equal to : 0.565 at random state 87\n",
      "Accuracy SCORE is equal to : 0.605 at random state 88\n",
      "Accuracy SCORE is equal to : 0.64 at random state 89\n",
      "Accuracy SCORE is equal to : 0.605 at random state 90\n",
      "Accuracy SCORE is equal to : 0.6 at random state 91\n",
      "Accuracy SCORE is equal to : 0.635 at random state 92\n",
      "Accuracy SCORE is equal to : 0.625 at random state 93\n",
      "Accuracy SCORE is equal to : 0.64 at random state 94\n",
      "Accuracy SCORE is equal to : 0.625 at random state 95\n",
      "Accuracy SCORE is equal to : 0.625 at random state 96\n",
      "Accuracy SCORE is equal to : 0.66 at random state 97\n",
      "Accuracy SCORE is equal to : 0.595 at random state 98\n",
      "Accuracy SCORE is equal to : 0.565 at random state 99\n",
      "Accuracy SCORE is equal to : 0.685 at random state 100\n",
      "The maximum Accuracy_score is  0.69 at random state 67\n"
     ]
    }
   ],
   "source": [
    "max_score=0\n",
    "final_rstate=0\n",
    "for i in range(42,101):\n",
    "    x_train,x_test,y_train,y_test=train_test_split(x,y,test_size=200,random_state=i)\n",
    "    svc=SVC(kernel='rbf')\n",
    "    svc.fit(x_train,y_train)\n",
    "    svc.score(x_train,y_train)\n",
    "    predsvc=svc.predict(x_test)\n",
    "    acc_score=accuracy_score(y_test,predsvc)\n",
    "    print(\"Accuracy SCORE is equal to :\",acc_score,\"at random state\",i)\n",
    "    if acc_score > max_score:\n",
    "        max_score=acc_score\n",
    "        final_rstate=i\n",
    "    \n",
    "\n",
    "print(\"The maximum Accuracy_score is \",max_score, \"at random state\",final_rstate) \n",
    "        "
   ]
  },
  {
   "cell_type": "code",
   "execution_count": 82,
   "metadata": {},
   "outputs": [
    {
     "name": "stdout",
     "output_type": "stream",
     "text": [
      "Accuracy SCORE is equal to : 0.59 at random state 42\n",
      "Accuracy SCORE is equal to : 0.595 at random state 43\n",
      "Accuracy SCORE is equal to : 0.61 at random state 44\n",
      "Accuracy SCORE is equal to : 0.64 at random state 45\n",
      "Accuracy SCORE is equal to : 0.615 at random state 46\n",
      "Accuracy SCORE is equal to : 0.615 at random state 47\n",
      "Accuracy SCORE is equal to : 0.6 at random state 48\n",
      "Accuracy SCORE is equal to : 0.595 at random state 49\n",
      "Accuracy SCORE is equal to : 0.59 at random state 50\n",
      "Accuracy SCORE is equal to : 0.65 at random state 51\n",
      "Accuracy SCORE is equal to : 0.625 at random state 52\n",
      "Accuracy SCORE is equal to : 0.6 at random state 53\n",
      "Accuracy SCORE is equal to : 0.64 at random state 54\n",
      "Accuracy SCORE is equal to : 0.615 at random state 55\n",
      "Accuracy SCORE is equal to : 0.64 at random state 56\n",
      "Accuracy SCORE is equal to : 0.625 at random state 57\n",
      "Accuracy SCORE is equal to : 0.61 at random state 58\n",
      "Accuracy SCORE is equal to : 0.66 at random state 59\n",
      "Accuracy SCORE is equal to : 0.58 at random state 60\n",
      "Accuracy SCORE is equal to : 0.64 at random state 61\n",
      "Accuracy SCORE is equal to : 0.635 at random state 62\n",
      "Accuracy SCORE is equal to : 0.575 at random state 63\n",
      "Accuracy SCORE is equal to : 0.635 at random state 64\n",
      "Accuracy SCORE is equal to : 0.615 at random state 65\n",
      "Accuracy SCORE is equal to : 0.57 at random state 66\n",
      "Accuracy SCORE is equal to : 0.69 at random state 67\n",
      "Accuracy SCORE is equal to : 0.555 at random state 68\n",
      "Accuracy SCORE is equal to : 0.605 at random state 69\n",
      "Accuracy SCORE is equal to : 0.63 at random state 70\n",
      "Accuracy SCORE is equal to : 0.625 at random state 71\n",
      "Accuracy SCORE is equal to : 0.615 at random state 72\n",
      "Accuracy SCORE is equal to : 0.625 at random state 73\n",
      "Accuracy SCORE is equal to : 0.625 at random state 74\n",
      "Accuracy SCORE is equal to : 0.655 at random state 75\n",
      "Accuracy SCORE is equal to : 0.685 at random state 76\n",
      "Accuracy SCORE is equal to : 0.63 at random state 77\n",
      "Accuracy SCORE is equal to : 0.62 at random state 78\n",
      "Accuracy SCORE is equal to : 0.61 at random state 79\n",
      "Accuracy SCORE is equal to : 0.565 at random state 80\n",
      "Accuracy SCORE is equal to : 0.57 at random state 81\n",
      "Accuracy SCORE is equal to : 0.64 at random state 82\n",
      "Accuracy SCORE is equal to : 0.61 at random state 83\n",
      "Accuracy SCORE is equal to : 0.62 at random state 84\n",
      "Accuracy SCORE is equal to : 0.63 at random state 85\n",
      "Accuracy SCORE is equal to : 0.57 at random state 86\n",
      "Accuracy SCORE is equal to : 0.565 at random state 87\n",
      "Accuracy SCORE is equal to : 0.605 at random state 88\n",
      "Accuracy SCORE is equal to : 0.64 at random state 89\n",
      "Accuracy SCORE is equal to : 0.605 at random state 90\n",
      "Accuracy SCORE is equal to : 0.6 at random state 91\n",
      "Accuracy SCORE is equal to : 0.635 at random state 92\n",
      "Accuracy SCORE is equal to : 0.625 at random state 93\n",
      "Accuracy SCORE is equal to : 0.64 at random state 94\n",
      "Accuracy SCORE is equal to : 0.625 at random state 95\n",
      "Accuracy SCORE is equal to : 0.625 at random state 96\n",
      "Accuracy SCORE is equal to : 0.66 at random state 97\n",
      "Accuracy SCORE is equal to : 0.595 at random state 98\n",
      "Accuracy SCORE is equal to : 0.565 at random state 99\n",
      "Accuracy SCORE is equal to : 0.685 at random state 100\n",
      "The maximum Accuracy_score is  0.69 at random state 67\n"
     ]
    }
   ],
   "source": [
    "max_score=0\n",
    "final_rstate=0\n",
    "for i in range(42,101):\n",
    "    x_train,x_test,y_train,y_test=train_test_split(x,y,test_size=200,random_state=i)\n",
    "    svc=SVC(kernel='poly')\n",
    "    svc.fit(x_train,y_train)\n",
    "    svc.score(x_train,y_train)\n",
    "    predsvc=svc.predict(x_test)\n",
    "    acc_score=accuracy_score(y_test,predsvc)\n",
    "    print(\"Accuracy SCORE is equal to :\",acc_score,\"at random state\",i)\n",
    "    if acc_score > max_score:\n",
    "        max_score=acc_score\n",
    "        final_rstate=i\n",
    "    \n",
    "\n",
    "print(\"The maximum Accuracy_score is \",max_score, \"at random state\",final_rstate) "
   ]
  },
  {
   "cell_type": "code",
   "execution_count": 83,
   "metadata": {},
   "outputs": [
    {
     "name": "stdout",
     "output_type": "stream",
     "text": [
      "[0.72072072 0.72972973 0.71171171 0.72072072 0.72727273 0.69090909\n",
      " 0.79090909 0.59090909]\n",
      "0.7103603603603603\n",
      "0.0524556438314924\n"
     ]
    }
   ],
   "source": [
    "from sklearn.model_selection import cross_val_score\n",
    "score=cross_val_score(dtc,x,y,cv=8)\n",
    "print(score)\n",
    "print(score.mean())\n",
    "print(score.std())"
   ]
  },
  {
   "cell_type": "code",
   "execution_count": 84,
   "metadata": {},
   "outputs": [
    {
     "name": "stdout",
     "output_type": "stream",
     "text": [
      "Accuracy SCORE is equal to : 1.0 at random state 99 \n",
      " \n",
      "\n",
      "\n",
      " \n",
      "Confusion Matrix is -- \n",
      " \n",
      " [[38 21]\n",
      " [26 15]]\n",
      "\n",
      " \n",
      "Classification_report is -- \n",
      " \n",
      "               precision    recall  f1-score   support\n",
      "\n",
      "           0       0.59      0.64      0.62        59\n",
      "           1       0.42      0.37      0.39        41\n",
      "\n",
      "    accuracy                           0.53       100\n",
      "   macro avg       0.51      0.50      0.50       100\n",
      "weighted avg       0.52      0.53      0.52       100\n",
      "\n"
     ]
    }
   ],
   "source": [
    "x_train,x_test,y_train,y_test=train_test_split(x,y,test_size=100,random_state=62)\n",
    "knn=KNeighborsClassifier()\n",
    "knn.fit(x_train,y_train)\n",
    "knn.score(x_train,y_train)\n",
    "predknn=dtc.predict(x_test)\n",
    "acc_score=accuracy_score(y_test,predknn)\n",
    "print(\"Accuracy SCORE is equal to :\",acc_score,\"at random state 99 \\n \\n\")\n",
    "print(\"\\n \\nConfusion Matrix is -- \\n \\n\",confusion_matrix(y_test,preddtc))\n",
    "print(\"\\n \\nClassification_report is -- \\n \\n\",classification_report(y_test,preddtc))"
   ]
  },
  {
   "cell_type": "code",
   "execution_count": 86,
   "metadata": {},
   "outputs": [
    {
     "name": "stdout",
     "output_type": "stream",
     "text": [
      "Accuracy SCORE is equal to : 0.82 at random state 99 \n",
      " \n",
      "\n",
      "\n",
      " \n",
      "Confusion Matrix is -- \n",
      " \n",
      " [[51 10]\n",
      " [ 8 31]]\n",
      "\n",
      " \n",
      "Classification_report is -- \n",
      " \n",
      "               precision    recall  f1-score   support\n",
      "\n",
      "           0       0.86      0.84      0.85        61\n",
      "           1       0.76      0.79      0.77        39\n",
      "\n",
      "    accuracy                           0.82       100\n",
      "   macro avg       0.81      0.82      0.81       100\n",
      "weighted avg       0.82      0.82      0.82       100\n",
      "\n"
     ]
    }
   ],
   "source": [
    "x_train,x_test,y_train,y_test=train_test_split(x,y,test_size=100,random_state=90)\n",
    "dtc=DecisionTreeClassifier()\n",
    "dtc.fit(x_train,y_train)\n",
    "dtc.score(x_train,y_train)\n",
    "preddtc=dtc.predict(x_test)\n",
    "acc_score=accuracy_score(y_test,preddtc)\n",
    "print(\"Accuracy SCORE is equal to :\",acc_score,\"at random state 90 \\n \\n\")\n",
    "print(\"\\n \\nConfusion Matrix is -- \\n \\n\",confusion_matrix(y_test,preddtc))\n",
    "print(\"\\n \\nClassification_report is -- \\n \\n\",classification_report(y_test,preddtc))"
   ]
  },
  {
   "cell_type": "code",
   "execution_count": 87,
   "metadata": {},
   "outputs": [
    {
     "name": "stdout",
     "output_type": "stream",
     "text": [
      "Accuracy SCORE is equal to : 0.86 at random state 59 \n",
      " \n",
      "\n",
      "\n",
      " \n",
      "Confusion Matrix is -- \n",
      " \n",
      " [[40 23]\n",
      " [19 18]]\n",
      "\n",
      " \n",
      "Classification_report is -- \n",
      " \n",
      "               precision    recall  f1-score   support\n",
      "\n",
      "           0       0.68      0.63      0.66        63\n",
      "           1       0.44      0.49      0.46        37\n",
      "\n",
      "    accuracy                           0.58       100\n",
      "   macro avg       0.56      0.56      0.56       100\n",
      "weighted avg       0.59      0.58      0.58       100\n",
      "\n"
     ]
    }
   ],
   "source": [
    "x_train,x_test,y_train,y_test=train_test_split(x,y,test_size=100,random_state=59)\n",
    "gnb=GaussianNB()\n",
    "gnb.fit(x_train,y_train)\n",
    "t=gnb.score(x_train,y_train)\n",
    "pred=gnb.predict(x_test)\n",
    "acc_score=accuracy_score(y_test,pred)\n",
    "\n",
    "print(\"Accuracy SCORE is equal to :\",acc_score,\"at random state 59 \\n \\n\")\n",
    "print(\"\\n \\nConfusion Matrix is -- \\n \\n\",confusion_matrix(y_test,preddtc))\n",
    "print(\"\\n \\nClassification_report is -- \\n \\n\",classification_report(y_test,preddtc))"
   ]
  },
  {
   "cell_type": "code",
   "execution_count": 89,
   "metadata": {},
   "outputs": [
    {
     "name": "stdout",
     "output_type": "stream",
     "text": [
      "Accuracy SCORE is equal to : 0.87 at random state 90 \n",
      " \n",
      "\n",
      "\n",
      " \n",
      "Confusion Matrix is -- \n",
      " \n",
      " [[51 10]\n",
      " [ 8 31]]\n",
      "\n",
      " \n",
      "Classification_report is -- \n",
      " \n",
      "               precision    recall  f1-score   support\n",
      "\n",
      "           0       0.86      0.84      0.85        61\n",
      "           1       0.76      0.79      0.77        39\n",
      "\n",
      "    accuracy                           0.82       100\n",
      "   macro avg       0.81      0.82      0.81       100\n",
      "weighted avg       0.82      0.82      0.82       100\n",
      "\n"
     ]
    }
   ],
   "source": [
    "x_train,x_test,y_train,y_test=train_test_split(x,y,test_size=100,random_state=90)\n",
    "lg=LogisticRegression()\n",
    "lg.fit(x_train,y_train)\n",
    "t=lg.score(x_train,y_train)\n",
    "pred=lg.predict(x_test)\n",
    "acc_score=accuracy_score(y_test,pred)\n",
    "\n",
    "print(\"Accuracy SCORE is equal to :\",acc_score,\"at random state 90 \\n \\n\")\n",
    "print(\"\\n \\nConfusion Matrix is -- \\n \\n\",confusion_matrix(y_test,preddtc))\n",
    "print(\"\\n \\nClassification_report is -- \\n \\n\",classification_report(y_test,preddtc))"
   ]
  },
  {
   "cell_type": "code",
   "execution_count": 90,
   "metadata": {},
   "outputs": [],
   "source": [
    "#if we ignore the Errors in confusion matrix then the KNeighborsClassifier() is giving the accuracy score of 1.00\n",
    "# there is less error in confusion matrix of Decision Tree Classifier() and LogisticRegreesion() with 0.82 and 0.87 accuracy score respectively"
   ]
  },
  {
   "cell_type": "code",
   "execution_count": 91,
   "metadata": {},
   "outputs": [
    {
     "data": {
      "text/plain": [
       "['lg_Titanic.pkl']"
      ]
     },
     "execution_count": 91,
     "metadata": {},
     "output_type": "execute_result"
    }
   ],
   "source": [
    "from sklearn.externals import joblib\n",
    "joblib.dump(lg,\"lg_Titanic.pkl\")"
   ]
  },
  {
   "cell_type": "code",
   "execution_count": null,
   "metadata": {},
   "outputs": [],
   "source": []
  }
 ],
 "metadata": {
  "kernelspec": {
   "display_name": "Python 3",
   "language": "python",
   "name": "python3"
  },
  "language_info": {
   "codemirror_mode": {
    "name": "ipython",
    "version": 3
   },
   "file_extension": ".py",
   "mimetype": "text/x-python",
   "name": "python",
   "nbconvert_exporter": "python",
   "pygments_lexer": "ipython3",
   "version": "3.7.6"
  }
 },
 "nbformat": 4,
 "nbformat_minor": 4
}
